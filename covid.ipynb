{
  "nbformat": 4,
  "nbformat_minor": 0,
  "metadata": {
    "colab": {
      "name": "covid.ipynb",
      "provenance": [],
      "collapsed_sections": []
    },
    "kernelspec": {
      "name": "python3",
      "display_name": "Python 3"
    }
  },
  "cells": [
    {
      "cell_type": "code",
      "metadata": {
        "id": "FQ2M0oVn963P"
      },
      "source": [
        "import pandas as pd\n",
        "import numpy as np\n",
        "import plotly.express as px\n",
        "import plotly.graph_objects as go"
      ],
      "execution_count": null,
      "outputs": []
    },
    {
      "cell_type": "code",
      "metadata": {
        "colab": {
          "resources": {
            "http://localhost:8080/nbextensions/google.colab/files.js": {
              "data": "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",
              "ok": true,
              "headers": [
                [
                  "content-type",
                  "application/javascript"
                ]
              ],
              "status": 200,
              "status_text": ""
            }
          },
          "base_uri": "https://localhost:8080/",
          "height": 72
        },
        "id": "rKjVPU3C9_uJ",
        "outputId": "16d14f2e-4caf-4b87-d703-445b32eb22f8"
      },
      "source": [
        "from google.colab import files\n",
        "uploaded = files.upload()"
      ],
      "execution_count": null,
      "outputs": [
        {
          "output_type": "display_data",
          "data": {
            "text/html": [
              "\n",
              "     <input type=\"file\" id=\"files-d77a068d-258c-4970-b58c-26de897b8a5f\" name=\"files[]\" multiple disabled\n",
              "        style=\"border:none\" />\n",
              "     <output id=\"result-d77a068d-258c-4970-b58c-26de897b8a5f\">\n",
              "      Upload widget is only available when the cell has been executed in the\n",
              "      current browser session. Please rerun this cell to enable.\n",
              "      </output>\n",
              "      <script src=\"/nbextensions/google.colab/files.js\"></script> "
            ],
            "text/plain": [
              "<IPython.core.display.HTML object>"
            ]
          },
          "metadata": {
            "tags": []
          }
        },
        {
          "output_type": "stream",
          "text": [
            "Saving country_vaccinations.csv to country_vaccinations (3).csv\n"
          ],
          "name": "stdout"
        }
      ]
    },
    {
      "cell_type": "code",
      "metadata": {
        "id": "cBl0Fxjx-Oyz"
      },
      "source": [
        "df = pd.read_csv(\"country_vaccinations.csv\")"
      ],
      "execution_count": null,
      "outputs": []
    },
    {
      "cell_type": "code",
      "metadata": {
        "id": "NRJHs_bN-dzc",
        "colab": {
          "base_uri": "https://localhost:8080/",
          "height": 309
        },
        "outputId": "a5e3dca6-8cb0-4186-e570-e88b74c3fd6a"
      },
      "source": [
        "df.head()"
      ],
      "execution_count": null,
      "outputs": [
        {
          "output_type": "execute_result",
          "data": {
            "text/html": [
              "<div>\n",
              "<style scoped>\n",
              "    .dataframe tbody tr th:only-of-type {\n",
              "        vertical-align: middle;\n",
              "    }\n",
              "\n",
              "    .dataframe tbody tr th {\n",
              "        vertical-align: top;\n",
              "    }\n",
              "\n",
              "    .dataframe thead th {\n",
              "        text-align: right;\n",
              "    }\n",
              "</style>\n",
              "<table border=\"1\" class=\"dataframe\">\n",
              "  <thead>\n",
              "    <tr style=\"text-align: right;\">\n",
              "      <th></th>\n",
              "      <th>country</th>\n",
              "      <th>iso_code</th>\n",
              "      <th>date</th>\n",
              "      <th>total_vaccinations</th>\n",
              "      <th>people_vaccinated</th>\n",
              "      <th>people_fully_vaccinated</th>\n",
              "      <th>daily_vaccinations_raw</th>\n",
              "      <th>daily_vaccinations</th>\n",
              "      <th>total_vaccinations_per_hundred</th>\n",
              "      <th>people_vaccinated_per_hundred</th>\n",
              "      <th>people_fully_vaccinated_per_hundred</th>\n",
              "      <th>daily_vaccinations_per_million</th>\n",
              "      <th>vaccines</th>\n",
              "      <th>source_name</th>\n",
              "      <th>source_website</th>\n",
              "    </tr>\n",
              "  </thead>\n",
              "  <tbody>\n",
              "    <tr>\n",
              "      <th>0</th>\n",
              "      <td>Albania</td>\n",
              "      <td>ALB</td>\n",
              "      <td>2021-01-10</td>\n",
              "      <td>0.0</td>\n",
              "      <td>0.0</td>\n",
              "      <td>NaN</td>\n",
              "      <td>NaN</td>\n",
              "      <td>NaN</td>\n",
              "      <td>0.00</td>\n",
              "      <td>0.00</td>\n",
              "      <td>NaN</td>\n",
              "      <td>NaN</td>\n",
              "      <td>Pfizer/BioNTech</td>\n",
              "      <td>Ministry of Health</td>\n",
              "      <td>https://shendetesia.gov.al/vaksinimi-anticovid...</td>\n",
              "    </tr>\n",
              "    <tr>\n",
              "      <th>1</th>\n",
              "      <td>Albania</td>\n",
              "      <td>ALB</td>\n",
              "      <td>2021-01-11</td>\n",
              "      <td>NaN</td>\n",
              "      <td>NaN</td>\n",
              "      <td>NaN</td>\n",
              "      <td>NaN</td>\n",
              "      <td>64.0</td>\n",
              "      <td>NaN</td>\n",
              "      <td>NaN</td>\n",
              "      <td>NaN</td>\n",
              "      <td>22.0</td>\n",
              "      <td>Pfizer/BioNTech</td>\n",
              "      <td>Ministry of Health</td>\n",
              "      <td>https://shendetesia.gov.al/vaksinimi-anticovid...</td>\n",
              "    </tr>\n",
              "    <tr>\n",
              "      <th>2</th>\n",
              "      <td>Albania</td>\n",
              "      <td>ALB</td>\n",
              "      <td>2021-01-12</td>\n",
              "      <td>128.0</td>\n",
              "      <td>128.0</td>\n",
              "      <td>NaN</td>\n",
              "      <td>NaN</td>\n",
              "      <td>64.0</td>\n",
              "      <td>0.00</td>\n",
              "      <td>0.00</td>\n",
              "      <td>NaN</td>\n",
              "      <td>22.0</td>\n",
              "      <td>Pfizer/BioNTech</td>\n",
              "      <td>Ministry of Health</td>\n",
              "      <td>https://shendetesia.gov.al/vaksinimi-anticovid...</td>\n",
              "    </tr>\n",
              "    <tr>\n",
              "      <th>3</th>\n",
              "      <td>Albania</td>\n",
              "      <td>ALB</td>\n",
              "      <td>2021-01-13</td>\n",
              "      <td>188.0</td>\n",
              "      <td>188.0</td>\n",
              "      <td>NaN</td>\n",
              "      <td>60.0</td>\n",
              "      <td>63.0</td>\n",
              "      <td>0.01</td>\n",
              "      <td>0.01</td>\n",
              "      <td>NaN</td>\n",
              "      <td>22.0</td>\n",
              "      <td>Pfizer/BioNTech</td>\n",
              "      <td>Ministry of Health</td>\n",
              "      <td>https://shendetesia.gov.al/vaksinimi-anticovid...</td>\n",
              "    </tr>\n",
              "    <tr>\n",
              "      <th>4</th>\n",
              "      <td>Albania</td>\n",
              "      <td>ALB</td>\n",
              "      <td>2021-01-14</td>\n",
              "      <td>266.0</td>\n",
              "      <td>266.0</td>\n",
              "      <td>NaN</td>\n",
              "      <td>78.0</td>\n",
              "      <td>66.0</td>\n",
              "      <td>0.01</td>\n",
              "      <td>0.01</td>\n",
              "      <td>NaN</td>\n",
              "      <td>23.0</td>\n",
              "      <td>Pfizer/BioNTech</td>\n",
              "      <td>Ministry of Health</td>\n",
              "      <td>https://shendetesia.gov.al/vaksinimi-anticovid...</td>\n",
              "    </tr>\n",
              "  </tbody>\n",
              "</table>\n",
              "</div>"
            ],
            "text/plain": [
              "   country  ...                                     source_website\n",
              "0  Albania  ...  https://shendetesia.gov.al/vaksinimi-anticovid...\n",
              "1  Albania  ...  https://shendetesia.gov.al/vaksinimi-anticovid...\n",
              "2  Albania  ...  https://shendetesia.gov.al/vaksinimi-anticovid...\n",
              "3  Albania  ...  https://shendetesia.gov.al/vaksinimi-anticovid...\n",
              "4  Albania  ...  https://shendetesia.gov.al/vaksinimi-anticovid...\n",
              "\n",
              "[5 rows x 15 columns]"
            ]
          },
          "metadata": {
            "tags": []
          },
          "execution_count": 4
        }
      ]
    },
    {
      "cell_type": "code",
      "metadata": {
        "id": "A7G1eCjZ-qSm",
        "colab": {
          "base_uri": "https://localhost:8080/"
        },
        "outputId": "ae7c1565-3b12-4506-d6eb-ce136449ae22"
      },
      "source": [
        "df.info()"
      ],
      "execution_count": null,
      "outputs": [
        {
          "output_type": "stream",
          "text": [
            "<class 'pandas.core.frame.DataFrame'>\n",
            "RangeIndex: 3081 entries, 0 to 3080\n",
            "Data columns (total 15 columns):\n",
            " #   Column                               Non-Null Count  Dtype  \n",
            "---  ------                               --------------  -----  \n",
            " 0   country                              3081 non-null   object \n",
            " 1   iso_code                             2833 non-null   object \n",
            " 2   date                                 3081 non-null   object \n",
            " 3   total_vaccinations                   1980 non-null   float64\n",
            " 4   people_vaccinated                    1643 non-null   float64\n",
            " 5   people_fully_vaccinated              1016 non-null   float64\n",
            " 6   daily_vaccinations_raw               1642 non-null   float64\n",
            " 7   daily_vaccinations                   2960 non-null   float64\n",
            " 8   total_vaccinations_per_hundred       1980 non-null   float64\n",
            " 9   people_vaccinated_per_hundred        1643 non-null   float64\n",
            " 10  people_fully_vaccinated_per_hundred  1016 non-null   float64\n",
            " 11  daily_vaccinations_per_million       2960 non-null   float64\n",
            " 12  vaccines                             3081 non-null   object \n",
            " 13  source_name                          3081 non-null   object \n",
            " 14  source_website                       3081 non-null   object \n",
            "dtypes: float64(9), object(6)\n",
            "memory usage: 361.2+ KB\n"
          ],
          "name": "stdout"
        }
      ]
    },
    {
      "cell_type": "code",
      "metadata": {
        "id": "6oUK-Gx7-tF-",
        "colab": {
          "base_uri": "https://localhost:8080/",
          "height": 549
        },
        "outputId": "249e61e5-8b57-49e5-cb25-9ccc55e59311"
      },
      "source": [
        "df.head(10)"
      ],
      "execution_count": null,
      "outputs": [
        {
          "output_type": "execute_result",
          "data": {
            "text/html": [
              "<div>\n",
              "<style scoped>\n",
              "    .dataframe tbody tr th:only-of-type {\n",
              "        vertical-align: middle;\n",
              "    }\n",
              "\n",
              "    .dataframe tbody tr th {\n",
              "        vertical-align: top;\n",
              "    }\n",
              "\n",
              "    .dataframe thead th {\n",
              "        text-align: right;\n",
              "    }\n",
              "</style>\n",
              "<table border=\"1\" class=\"dataframe\">\n",
              "  <thead>\n",
              "    <tr style=\"text-align: right;\">\n",
              "      <th></th>\n",
              "      <th>country</th>\n",
              "      <th>iso_code</th>\n",
              "      <th>date</th>\n",
              "      <th>total_vaccinations</th>\n",
              "      <th>people_vaccinated</th>\n",
              "      <th>people_fully_vaccinated</th>\n",
              "      <th>daily_vaccinations_raw</th>\n",
              "      <th>daily_vaccinations</th>\n",
              "      <th>total_vaccinations_per_hundred</th>\n",
              "      <th>people_vaccinated_per_hundred</th>\n",
              "      <th>people_fully_vaccinated_per_hundred</th>\n",
              "      <th>daily_vaccinations_per_million</th>\n",
              "      <th>vaccines</th>\n",
              "      <th>source_name</th>\n",
              "      <th>source_website</th>\n",
              "    </tr>\n",
              "  </thead>\n",
              "  <tbody>\n",
              "    <tr>\n",
              "      <th>0</th>\n",
              "      <td>Albania</td>\n",
              "      <td>ALB</td>\n",
              "      <td>2021-01-10</td>\n",
              "      <td>0.0</td>\n",
              "      <td>0.0</td>\n",
              "      <td>NaN</td>\n",
              "      <td>NaN</td>\n",
              "      <td>NaN</td>\n",
              "      <td>0.00</td>\n",
              "      <td>0.00</td>\n",
              "      <td>NaN</td>\n",
              "      <td>NaN</td>\n",
              "      <td>Pfizer/BioNTech</td>\n",
              "      <td>Ministry of Health</td>\n",
              "      <td>https://shendetesia.gov.al/vaksinimi-anticovid...</td>\n",
              "    </tr>\n",
              "    <tr>\n",
              "      <th>1</th>\n",
              "      <td>Albania</td>\n",
              "      <td>ALB</td>\n",
              "      <td>2021-01-11</td>\n",
              "      <td>NaN</td>\n",
              "      <td>NaN</td>\n",
              "      <td>NaN</td>\n",
              "      <td>NaN</td>\n",
              "      <td>64.0</td>\n",
              "      <td>NaN</td>\n",
              "      <td>NaN</td>\n",
              "      <td>NaN</td>\n",
              "      <td>22.0</td>\n",
              "      <td>Pfizer/BioNTech</td>\n",
              "      <td>Ministry of Health</td>\n",
              "      <td>https://shendetesia.gov.al/vaksinimi-anticovid...</td>\n",
              "    </tr>\n",
              "    <tr>\n",
              "      <th>2</th>\n",
              "      <td>Albania</td>\n",
              "      <td>ALB</td>\n",
              "      <td>2021-01-12</td>\n",
              "      <td>128.0</td>\n",
              "      <td>128.0</td>\n",
              "      <td>NaN</td>\n",
              "      <td>NaN</td>\n",
              "      <td>64.0</td>\n",
              "      <td>0.00</td>\n",
              "      <td>0.00</td>\n",
              "      <td>NaN</td>\n",
              "      <td>22.0</td>\n",
              "      <td>Pfizer/BioNTech</td>\n",
              "      <td>Ministry of Health</td>\n",
              "      <td>https://shendetesia.gov.al/vaksinimi-anticovid...</td>\n",
              "    </tr>\n",
              "    <tr>\n",
              "      <th>3</th>\n",
              "      <td>Albania</td>\n",
              "      <td>ALB</td>\n",
              "      <td>2021-01-13</td>\n",
              "      <td>188.0</td>\n",
              "      <td>188.0</td>\n",
              "      <td>NaN</td>\n",
              "      <td>60.0</td>\n",
              "      <td>63.0</td>\n",
              "      <td>0.01</td>\n",
              "      <td>0.01</td>\n",
              "      <td>NaN</td>\n",
              "      <td>22.0</td>\n",
              "      <td>Pfizer/BioNTech</td>\n",
              "      <td>Ministry of Health</td>\n",
              "      <td>https://shendetesia.gov.al/vaksinimi-anticovid...</td>\n",
              "    </tr>\n",
              "    <tr>\n",
              "      <th>4</th>\n",
              "      <td>Albania</td>\n",
              "      <td>ALB</td>\n",
              "      <td>2021-01-14</td>\n",
              "      <td>266.0</td>\n",
              "      <td>266.0</td>\n",
              "      <td>NaN</td>\n",
              "      <td>78.0</td>\n",
              "      <td>66.0</td>\n",
              "      <td>0.01</td>\n",
              "      <td>0.01</td>\n",
              "      <td>NaN</td>\n",
              "      <td>23.0</td>\n",
              "      <td>Pfizer/BioNTech</td>\n",
              "      <td>Ministry of Health</td>\n",
              "      <td>https://shendetesia.gov.al/vaksinimi-anticovid...</td>\n",
              "    </tr>\n",
              "    <tr>\n",
              "      <th>5</th>\n",
              "      <td>Albania</td>\n",
              "      <td>ALB</td>\n",
              "      <td>2021-01-15</td>\n",
              "      <td>308.0</td>\n",
              "      <td>308.0</td>\n",
              "      <td>NaN</td>\n",
              "      <td>42.0</td>\n",
              "      <td>62.0</td>\n",
              "      <td>0.01</td>\n",
              "      <td>0.01</td>\n",
              "      <td>NaN</td>\n",
              "      <td>22.0</td>\n",
              "      <td>Pfizer/BioNTech</td>\n",
              "      <td>Ministry of Health</td>\n",
              "      <td>https://shendetesia.gov.al/vaksinimi-anticovid...</td>\n",
              "    </tr>\n",
              "    <tr>\n",
              "      <th>6</th>\n",
              "      <td>Albania</td>\n",
              "      <td>ALB</td>\n",
              "      <td>2021-01-16</td>\n",
              "      <td>369.0</td>\n",
              "      <td>369.0</td>\n",
              "      <td>NaN</td>\n",
              "      <td>61.0</td>\n",
              "      <td>62.0</td>\n",
              "      <td>0.01</td>\n",
              "      <td>0.01</td>\n",
              "      <td>NaN</td>\n",
              "      <td>22.0</td>\n",
              "      <td>Pfizer/BioNTech</td>\n",
              "      <td>Ministry of Health</td>\n",
              "      <td>https://shendetesia.gov.al/vaksinimi-anticovid...</td>\n",
              "    </tr>\n",
              "    <tr>\n",
              "      <th>7</th>\n",
              "      <td>Albania</td>\n",
              "      <td>ALB</td>\n",
              "      <td>2021-01-17</td>\n",
              "      <td>405.0</td>\n",
              "      <td>405.0</td>\n",
              "      <td>NaN</td>\n",
              "      <td>36.0</td>\n",
              "      <td>58.0</td>\n",
              "      <td>0.01</td>\n",
              "      <td>0.01</td>\n",
              "      <td>NaN</td>\n",
              "      <td>20.0</td>\n",
              "      <td>Pfizer/BioNTech</td>\n",
              "      <td>Ministry of Health</td>\n",
              "      <td>https://shendetesia.gov.al/vaksinimi-anticovid...</td>\n",
              "    </tr>\n",
              "    <tr>\n",
              "      <th>8</th>\n",
              "      <td>Albania</td>\n",
              "      <td>ALB</td>\n",
              "      <td>2021-01-18</td>\n",
              "      <td>447.0</td>\n",
              "      <td>447.0</td>\n",
              "      <td>NaN</td>\n",
              "      <td>42.0</td>\n",
              "      <td>55.0</td>\n",
              "      <td>0.02</td>\n",
              "      <td>0.02</td>\n",
              "      <td>NaN</td>\n",
              "      <td>19.0</td>\n",
              "      <td>Pfizer/BioNTech</td>\n",
              "      <td>Ministry of Health</td>\n",
              "      <td>https://shendetesia.gov.al/vaksinimi-anticovid...</td>\n",
              "    </tr>\n",
              "    <tr>\n",
              "      <th>9</th>\n",
              "      <td>Albania</td>\n",
              "      <td>ALB</td>\n",
              "      <td>2021-01-19</td>\n",
              "      <td>483.0</td>\n",
              "      <td>483.0</td>\n",
              "      <td>NaN</td>\n",
              "      <td>36.0</td>\n",
              "      <td>51.0</td>\n",
              "      <td>0.02</td>\n",
              "      <td>0.02</td>\n",
              "      <td>NaN</td>\n",
              "      <td>18.0</td>\n",
              "      <td>Pfizer/BioNTech</td>\n",
              "      <td>Ministry of Health</td>\n",
              "      <td>https://shendetesia.gov.al/vaksinimi-anticovid...</td>\n",
              "    </tr>\n",
              "  </tbody>\n",
              "</table>\n",
              "</div>"
            ],
            "text/plain": [
              "   country  ...                                     source_website\n",
              "0  Albania  ...  https://shendetesia.gov.al/vaksinimi-anticovid...\n",
              "1  Albania  ...  https://shendetesia.gov.al/vaksinimi-anticovid...\n",
              "2  Albania  ...  https://shendetesia.gov.al/vaksinimi-anticovid...\n",
              "3  Albania  ...  https://shendetesia.gov.al/vaksinimi-anticovid...\n",
              "4  Albania  ...  https://shendetesia.gov.al/vaksinimi-anticovid...\n",
              "5  Albania  ...  https://shendetesia.gov.al/vaksinimi-anticovid...\n",
              "6  Albania  ...  https://shendetesia.gov.al/vaksinimi-anticovid...\n",
              "7  Albania  ...  https://shendetesia.gov.al/vaksinimi-anticovid...\n",
              "8  Albania  ...  https://shendetesia.gov.al/vaksinimi-anticovid...\n",
              "9  Albania  ...  https://shendetesia.gov.al/vaksinimi-anticovid...\n",
              "\n",
              "[10 rows x 15 columns]"
            ]
          },
          "metadata": {
            "tags": []
          },
          "execution_count": 6
        }
      ]
    },
    {
      "cell_type": "code",
      "metadata": {
        "id": "dEh5qeW0CGC2"
      },
      "source": [
        ""
      ],
      "execution_count": null,
      "outputs": []
    },
    {
      "cell_type": "code",
      "metadata": {
        "id": "bTx3Zop4-xLf",
        "colab": {
          "base_uri": "https://localhost:8080/"
        },
        "outputId": "c6672055-144b-412e-eb8b-b14df32121a2"
      },
      "source": [
        "df.isnull().sum()"
      ],
      "execution_count": null,
      "outputs": [
        {
          "output_type": "execute_result",
          "data": {
            "text/plain": [
              "country                                   0\n",
              "iso_code                                248\n",
              "date                                      0\n",
              "total_vaccinations                     1101\n",
              "people_vaccinated                      1438\n",
              "people_fully_vaccinated                2065\n",
              "daily_vaccinations_raw                 1439\n",
              "daily_vaccinations                      121\n",
              "total_vaccinations_per_hundred         1101\n",
              "people_vaccinated_per_hundred          1438\n",
              "people_fully_vaccinated_per_hundred    2065\n",
              "daily_vaccinations_per_million          121\n",
              "vaccines                                  0\n",
              "source_name                               0\n",
              "source_website                            0\n",
              "dtype: int64"
            ]
          },
          "metadata": {
            "tags": []
          },
          "execution_count": 7
        }
      ]
    },
    {
      "cell_type": "code",
      "metadata": {
        "id": "vKYWXOawFvDm"
      },
      "source": [
        "from plotly.subplots import make_subplots\n",
        "import datetime\n",
        "import math\n",
        "import matplotlib.pyplot as plt\n",
        "import warnings\n",
        "import seaborn as sns"
      ],
      "execution_count": null,
      "outputs": []
    },
    {
      "cell_type": "code",
      "metadata": {
        "id": "-P-tPCU8-2lG",
        "colab": {
          "base_uri": "https://localhost:8080/"
        },
        "outputId": "5222ad09-a920-4a54-ef87-1a2a1f7c7df6"
      },
      "source": [
        "df.shape"
      ],
      "execution_count": null,
      "outputs": [
        {
          "output_type": "execute_result",
          "data": {
            "text/plain": [
              "(3081, 15)"
            ]
          },
          "metadata": {
            "tags": []
          },
          "execution_count": 9
        }
      ]
    },
    {
      "cell_type": "code",
      "metadata": {
        "id": "Wr2lG--IE3wE"
      },
      "source": [
        "df= df.drop(df[df.total_vaccinations.isna()].index)"
      ],
      "execution_count": null,
      "outputs": []
    },
    {
      "cell_type": "code",
      "metadata": {
        "colab": {
          "base_uri": "https://localhost:8080/"
        },
        "id": "xzvSuW2WXZmo",
        "outputId": "ca4bf9b9-aea9-4462-8971-bbd813240665"
      },
      "source": [
        "df.isnull().sum()"
      ],
      "execution_count": null,
      "outputs": [
        {
          "output_type": "execute_result",
          "data": {
            "text/plain": [
              "country                                  0\n",
              "iso_code                               148\n",
              "date                                     0\n",
              "total_vaccinations                       0\n",
              "people_vaccinated                      367\n",
              "people_fully_vaccinated                971\n",
              "daily_vaccinations_raw                 338\n",
              "daily_vaccinations                      92\n",
              "total_vaccinations_per_hundred           0\n",
              "people_vaccinated_per_hundred          367\n",
              "people_fully_vaccinated_per_hundred    971\n",
              "daily_vaccinations_per_million          92\n",
              "vaccines                                 0\n",
              "source_name                              0\n",
              "source_website                           0\n",
              "dtype: int64"
            ]
          },
          "metadata": {
            "tags": []
          },
          "execution_count": 11
        }
      ]
    },
    {
      "cell_type": "code",
      "metadata": {
        "id": "yWLttEjcXcWX"
      },
      "source": [
        "df2 = df.drop(df[df.people_vaccinated.isnull()].index)"
      ],
      "execution_count": null,
      "outputs": []
    },
    {
      "cell_type": "code",
      "metadata": {
        "colab": {
          "base_uri": "https://localhost:8080/"
        },
        "id": "dgXtfol4YAqj",
        "outputId": "0e54dd50-d0f5-4392-bf99-46c558d0e42b"
      },
      "source": [
        "df2.isnull().sum()"
      ],
      "execution_count": null,
      "outputs": [
        {
          "output_type": "execute_result",
          "data": {
            "text/plain": [
              "country                                  0\n",
              "iso_code                               148\n",
              "date                                     0\n",
              "total_vaccinations                       0\n",
              "people_vaccinated                        0\n",
              "people_fully_vaccinated                604\n",
              "daily_vaccinations_raw                 228\n",
              "daily_vaccinations                      60\n",
              "total_vaccinations_per_hundred           0\n",
              "people_vaccinated_per_hundred            0\n",
              "people_fully_vaccinated_per_hundred    604\n",
              "daily_vaccinations_per_million          60\n",
              "vaccines                                 0\n",
              "source_name                              0\n",
              "source_website                           0\n",
              "dtype: int64"
            ]
          },
          "metadata": {
            "tags": []
          },
          "execution_count": 13
        }
      ]
    },
    {
      "cell_type": "code",
      "metadata": {
        "colab": {
          "base_uri": "https://localhost:8080/",
          "height": 309
        },
        "id": "g5Hx1U5WYFhc",
        "outputId": "cf94acad-629f-4667-e13f-9badbc53a27a"
      },
      "source": [
        "df2.head()"
      ],
      "execution_count": null,
      "outputs": [
        {
          "output_type": "execute_result",
          "data": {
            "text/html": [
              "<div>\n",
              "<style scoped>\n",
              "    .dataframe tbody tr th:only-of-type {\n",
              "        vertical-align: middle;\n",
              "    }\n",
              "\n",
              "    .dataframe tbody tr th {\n",
              "        vertical-align: top;\n",
              "    }\n",
              "\n",
              "    .dataframe thead th {\n",
              "        text-align: right;\n",
              "    }\n",
              "</style>\n",
              "<table border=\"1\" class=\"dataframe\">\n",
              "  <thead>\n",
              "    <tr style=\"text-align: right;\">\n",
              "      <th></th>\n",
              "      <th>country</th>\n",
              "      <th>iso_code</th>\n",
              "      <th>date</th>\n",
              "      <th>total_vaccinations</th>\n",
              "      <th>people_vaccinated</th>\n",
              "      <th>people_fully_vaccinated</th>\n",
              "      <th>daily_vaccinations_raw</th>\n",
              "      <th>daily_vaccinations</th>\n",
              "      <th>total_vaccinations_per_hundred</th>\n",
              "      <th>people_vaccinated_per_hundred</th>\n",
              "      <th>people_fully_vaccinated_per_hundred</th>\n",
              "      <th>daily_vaccinations_per_million</th>\n",
              "      <th>vaccines</th>\n",
              "      <th>source_name</th>\n",
              "      <th>source_website</th>\n",
              "    </tr>\n",
              "  </thead>\n",
              "  <tbody>\n",
              "    <tr>\n",
              "      <th>0</th>\n",
              "      <td>Albania</td>\n",
              "      <td>ALB</td>\n",
              "      <td>2021-01-10</td>\n",
              "      <td>0.0</td>\n",
              "      <td>0.0</td>\n",
              "      <td>NaN</td>\n",
              "      <td>NaN</td>\n",
              "      <td>NaN</td>\n",
              "      <td>0.00</td>\n",
              "      <td>0.00</td>\n",
              "      <td>NaN</td>\n",
              "      <td>NaN</td>\n",
              "      <td>Pfizer/BioNTech</td>\n",
              "      <td>Ministry of Health</td>\n",
              "      <td>https://shendetesia.gov.al/vaksinimi-anticovid...</td>\n",
              "    </tr>\n",
              "    <tr>\n",
              "      <th>2</th>\n",
              "      <td>Albania</td>\n",
              "      <td>ALB</td>\n",
              "      <td>2021-01-12</td>\n",
              "      <td>128.0</td>\n",
              "      <td>128.0</td>\n",
              "      <td>NaN</td>\n",
              "      <td>NaN</td>\n",
              "      <td>64.0</td>\n",
              "      <td>0.00</td>\n",
              "      <td>0.00</td>\n",
              "      <td>NaN</td>\n",
              "      <td>22.0</td>\n",
              "      <td>Pfizer/BioNTech</td>\n",
              "      <td>Ministry of Health</td>\n",
              "      <td>https://shendetesia.gov.al/vaksinimi-anticovid...</td>\n",
              "    </tr>\n",
              "    <tr>\n",
              "      <th>3</th>\n",
              "      <td>Albania</td>\n",
              "      <td>ALB</td>\n",
              "      <td>2021-01-13</td>\n",
              "      <td>188.0</td>\n",
              "      <td>188.0</td>\n",
              "      <td>NaN</td>\n",
              "      <td>60.0</td>\n",
              "      <td>63.0</td>\n",
              "      <td>0.01</td>\n",
              "      <td>0.01</td>\n",
              "      <td>NaN</td>\n",
              "      <td>22.0</td>\n",
              "      <td>Pfizer/BioNTech</td>\n",
              "      <td>Ministry of Health</td>\n",
              "      <td>https://shendetesia.gov.al/vaksinimi-anticovid...</td>\n",
              "    </tr>\n",
              "    <tr>\n",
              "      <th>4</th>\n",
              "      <td>Albania</td>\n",
              "      <td>ALB</td>\n",
              "      <td>2021-01-14</td>\n",
              "      <td>266.0</td>\n",
              "      <td>266.0</td>\n",
              "      <td>NaN</td>\n",
              "      <td>78.0</td>\n",
              "      <td>66.0</td>\n",
              "      <td>0.01</td>\n",
              "      <td>0.01</td>\n",
              "      <td>NaN</td>\n",
              "      <td>23.0</td>\n",
              "      <td>Pfizer/BioNTech</td>\n",
              "      <td>Ministry of Health</td>\n",
              "      <td>https://shendetesia.gov.al/vaksinimi-anticovid...</td>\n",
              "    </tr>\n",
              "    <tr>\n",
              "      <th>5</th>\n",
              "      <td>Albania</td>\n",
              "      <td>ALB</td>\n",
              "      <td>2021-01-15</td>\n",
              "      <td>308.0</td>\n",
              "      <td>308.0</td>\n",
              "      <td>NaN</td>\n",
              "      <td>42.0</td>\n",
              "      <td>62.0</td>\n",
              "      <td>0.01</td>\n",
              "      <td>0.01</td>\n",
              "      <td>NaN</td>\n",
              "      <td>22.0</td>\n",
              "      <td>Pfizer/BioNTech</td>\n",
              "      <td>Ministry of Health</td>\n",
              "      <td>https://shendetesia.gov.al/vaksinimi-anticovid...</td>\n",
              "    </tr>\n",
              "  </tbody>\n",
              "</table>\n",
              "</div>"
            ],
            "text/plain": [
              "   country  ...                                     source_website\n",
              "0  Albania  ...  https://shendetesia.gov.al/vaksinimi-anticovid...\n",
              "2  Albania  ...  https://shendetesia.gov.al/vaksinimi-anticovid...\n",
              "3  Albania  ...  https://shendetesia.gov.al/vaksinimi-anticovid...\n",
              "4  Albania  ...  https://shendetesia.gov.al/vaksinimi-anticovid...\n",
              "5  Albania  ...  https://shendetesia.gov.al/vaksinimi-anticovid...\n",
              "\n",
              "[5 rows x 15 columns]"
            ]
          },
          "metadata": {
            "tags": []
          },
          "execution_count": 14
        }
      ]
    },
    {
      "cell_type": "code",
      "metadata": {
        "colab": {
          "base_uri": "https://localhost:8080/",
          "height": 626
        },
        "id": "FISUlg70YLF2",
        "outputId": "fb35978b-4894-42bb-85cb-41588a3f41c2"
      },
      "source": [
        "plt.subplots(figsize=(8,8))\n",
        "sns.heatmap(df2.corr(),annot=True, square=True)\n",
        "plt.show()"
      ],
      "execution_count": null,
      "outputs": [
        {
          "output_type": "display_data",
          "data": {
            "image/png": "[encoded data removed]",
            "text/plain": [
              "<Figure size 576x576 with 2 Axes>"
            ]
          },
          "metadata": {
            "tags": [],
            "needs_background": "light"
          }
        }
      ]
    },
    {
      "cell_type": "code",
      "metadata": {
        "id": "PEX8bwowYS6i",
        "colab": {
          "base_uri": "https://localhost:8080/"
        },
        "outputId": "be8d8aa6-52c2-4543-bc53-ad09aa6d42e8"
      },
      "source": [
        "import scipy\n",
        "from itertools import product\n",
        "import statsmodels.api as sm\n",
        "import datetime\n",
        "from tqdm import tqdm\n",
        "warnings.filterwarnings('ignore')\n"
      ],
      "execution_count": null,
      "outputs": [
        {
          "output_type": "stream",
          "text": [
            "/usr/local/lib/python3.6/dist-packages/statsmodels/tools/_testing.py:19: FutureWarning:\n",
            "\n",
            "pandas.util.testing is deprecated. Use the functions in the public API at pandas.testing instead.\n",
            "\n"
          ],
          "name": "stderr"
        }
      ]
    },
    {
      "cell_type": "code",
      "metadata": {
        "colab": {
          "base_uri": "https://localhost:8080/"
        },
        "id": "DxPaKTk0gaBA",
        "outputId": "3065e10a-2d90-4443-fd5f-b92a0e7f2685"
      },
      "source": [
        "scipy.stats.mannwhitneyu(df2.total_vaccinations,df2.people_vaccinated, alternative='two-sided')"
      ],
      "execution_count": null,
      "outputs": [
        {
          "output_type": "execute_result",
          "data": {
            "text/plain": [
              "MannwhitneyuResult(statistic=1344204.0, pvalue=0.10148339480959287)"
            ]
          },
          "metadata": {
            "tags": []
          },
          "execution_count": 17
        }
      ]
    },
    {
      "cell_type": "code",
      "metadata": {
        "colab": {
          "base_uri": "https://localhost:8080/"
        },
        "id": "s5XqyI5fh7or",
        "outputId": "b958f450-a7f5-4716-fc3b-bdf87c9fab20"
      },
      "source": [
        "scipy.stats.mannwhitneyu(df2.total_vaccinations_per_hundred,df2.people_fully_vaccinated_per_hundred,alternative='two-sided')"
      ],
      "execution_count": null,
      "outputs": [
        {
          "output_type": "execute_result",
          "data": {
            "text/plain": [
              "MannwhitneyuResult(statistic=1213460.0, pvalue=0.0009491169914363914)"
            ]
          },
          "metadata": {
            "tags": []
          },
          "execution_count": 18
        }
      ]
    },
    {
      "cell_type": "code",
      "metadata": {
        "id": "jJtTKsCIiTCA"
      },
      "source": [
        "mean_1=df2.total_vaccinations.mean() - df2.people_vaccinated.mean()\n",
        "mean_2=df2.total_vaccinations_per_hundred.mean() - df2.people_fully_vaccinated_per_hundred.mean()"
      ],
      "execution_count": null,
      "outputs": []
    },
    {
      "cell_type": "code",
      "metadata": {
        "colab": {
          "base_uri": "https://localhost:8080/"
        },
        "id": "m18qPGk9lKV-",
        "outputId": "1fd7ec9c-d2e5-461f-c557-54be3e405a8a"
      },
      "source": [
        "print(mean_1)\n",
        "print(mean_2)"
      ],
      "execution_count": null,
      "outputs": [
        {
          "output_type": "stream",
          "text": [
            "205907.57036577817\n",
            "4.159715763337658\n"
          ],
          "name": "stdout"
        }
      ]
    },
    {
      "cell_type": "code",
      "metadata": {
        "colab": {
          "base_uri": "https://localhost:8080/"
        },
        "id": "peKVqJx6lLJo",
        "outputId": "77b75d2e-40aa-4dad-f991-8a61fc9a1a3f"
      },
      "source": [
        "df.isnull().sum()"
      ],
      "execution_count": null,
      "outputs": [
        {
          "output_type": "execute_result",
          "data": {
            "text/plain": [
              "country                                  0\n",
              "iso_code                               148\n",
              "date                                     0\n",
              "total_vaccinations                       0\n",
              "people_vaccinated                      367\n",
              "people_fully_vaccinated                971\n",
              "daily_vaccinations_raw                 338\n",
              "daily_vaccinations                      92\n",
              "total_vaccinations_per_hundred           0\n",
              "people_vaccinated_per_hundred          367\n",
              "people_fully_vaccinated_per_hundred    971\n",
              "daily_vaccinations_per_million          92\n",
              "vaccines                                 0\n",
              "source_name                              0\n",
              "source_website                           0\n",
              "dtype: int64"
            ]
          },
          "metadata": {
            "tags": []
          },
          "execution_count": 21
        }
      ]
    },
    {
      "cell_type": "code",
      "metadata": {
        "id": "Xt7TmcVrnQbg"
      },
      "source": [
        "df['people_vaccinated']=df.people_vaccinated.fillna(df.total_vaccinations - mean_1)\n"
      ],
      "execution_count": null,
      "outputs": []
    },
    {
      "cell_type": "code",
      "metadata": {
        "id": "-2_GXAabojsj"
      },
      "source": [
        "df['people_vaccinated_per_hundred']=df.people_vaccinated.fillna(df.total_vaccinations_per_hundred - mean_2)"
      ],
      "execution_count": null,
      "outputs": []
    },
    {
      "cell_type": "code",
      "metadata": {
        "colab": {
          "base_uri": "https://localhost:8080/"
        },
        "id": "Jaxrhu0ipT8y",
        "outputId": "dabe794e-c646-4473-b8df-b4bde4aeba8c"
      },
      "source": [
        "df.isnull().sum()"
      ],
      "execution_count": null,
      "outputs": [
        {
          "output_type": "execute_result",
          "data": {
            "text/plain": [
              "country                                  0\n",
              "iso_code                               148\n",
              "date                                     0\n",
              "total_vaccinations                       0\n",
              "people_vaccinated                        0\n",
              "people_fully_vaccinated                971\n",
              "daily_vaccinations_raw                 338\n",
              "daily_vaccinations                      92\n",
              "total_vaccinations_per_hundred           0\n",
              "people_vaccinated_per_hundred            0\n",
              "people_fully_vaccinated_per_hundred    971\n",
              "daily_vaccinations_per_million          92\n",
              "vaccines                                 0\n",
              "source_name                              0\n",
              "source_website                           0\n",
              "dtype: int64"
            ]
          },
          "metadata": {
            "tags": []
          },
          "execution_count": 24
        }
      ]
    },
    {
      "cell_type": "code",
      "metadata": {
        "colab": {
          "base_uri": "https://localhost:8080/"
        },
        "id": "1dVjawukpl_I",
        "outputId": "bacefe1a-4557-4f7f-ba31-96cc8499cf1a"
      },
      "source": [
        "scipy.stats.mannwhitneyu(df2.total_vaccinations,df2.people_fully_vaccinated,alternative='two-sided')"
      ],
      "execution_count": null,
      "outputs": [
        {
          "output_type": "execute_result",
          "data": {
            "text/plain": [
              "MannwhitneyuResult(statistic=1114209.0, pvalue=1.6968167891705135e-12)"
            ]
          },
          "metadata": {
            "tags": []
          },
          "execution_count": 25
        }
      ]
    },
    {
      "cell_type": "code",
      "metadata": {
        "id": "saG3vBoW-jpu",
        "colab": {
          "base_uri": "https://localhost:8080/"
        },
        "outputId": "c9ee2674-07af-4941-c5c9-34970476e7c0"
      },
      "source": [
        "scipy.stats.mannwhitneyu(df2.people_fully_vaccinated_per_hundred,df2.total_vaccinations_per_hundred,alternative='two-sided')"
      ],
      "execution_count": null,
      "outputs": [
        {
          "output_type": "execute_result",
          "data": {
            "text/plain": [
              "MannwhitneyuResult(statistic=1388309.0, pvalue=0.0009491169914363914)"
            ]
          },
          "metadata": {
            "tags": []
          },
          "execution_count": 26
        }
      ]
    },
    {
      "cell_type": "code",
      "metadata": {
        "id": "e_1Y4swTb0sy"
      },
      "source": [
        "df.people_fully_vaccinated = df.people_fully_vaccinated.fillna(0)"
      ],
      "execution_count": null,
      "outputs": []
    },
    {
      "cell_type": "code",
      "metadata": {
        "id": "ZRqFRQfJccDh"
      },
      "source": [
        "df.people_fully_vaccinated_per_hundred = df.people_fully_vaccinated_per_hundred.fillna(0)"
      ],
      "execution_count": null,
      "outputs": []
    },
    {
      "cell_type": "code",
      "metadata": {
        "colab": {
          "base_uri": "https://localhost:8080/"
        },
        "id": "jxmlcUPYcjKp",
        "outputId": "8fef4ae7-4045-4439-a2ac-6a2c1ead38b5"
      },
      "source": [
        "df.isnull().sum()"
      ],
      "execution_count": null,
      "outputs": [
        {
          "output_type": "execute_result",
          "data": {
            "text/plain": [
              "country                                  0\n",
              "iso_code                               148\n",
              "date                                     0\n",
              "total_vaccinations                       0\n",
              "people_vaccinated                        0\n",
              "people_fully_vaccinated                  0\n",
              "daily_vaccinations_raw                 338\n",
              "daily_vaccinations                      92\n",
              "total_vaccinations_per_hundred           0\n",
              "people_vaccinated_per_hundred            0\n",
              "people_fully_vaccinated_per_hundred      0\n",
              "daily_vaccinations_per_million          92\n",
              "vaccines                                 0\n",
              "source_name                              0\n",
              "source_website                           0\n",
              "dtype: int64"
            ]
          },
          "metadata": {
            "tags": []
          },
          "execution_count": 29
        }
      ]
    },
    {
      "cell_type": "code",
      "metadata": {
        "id": "kchhF8OKcl9N"
      },
      "source": [
        "df.daily_vaccinations = df.daily_vaccinations.fillna(0)\n",
        "df.daily_vaccinations_per_million = df.daily_vaccinations_per_million.fillna(0)"
      ],
      "execution_count": null,
      "outputs": []
    },
    {
      "cell_type": "code",
      "metadata": {
        "colab": {
          "base_uri": "https://localhost:8080/"
        },
        "id": "tP7JvBLgeKRi",
        "outputId": "6688a9b5-10d8-440e-af58-e0b84c061535"
      },
      "source": [
        "df.isnull().sum()"
      ],
      "execution_count": null,
      "outputs": [
        {
          "output_type": "execute_result",
          "data": {
            "text/plain": [
              "country                                  0\n",
              "iso_code                               148\n",
              "date                                     0\n",
              "total_vaccinations                       0\n",
              "people_vaccinated                        0\n",
              "people_fully_vaccinated                  0\n",
              "daily_vaccinations_raw                 338\n",
              "daily_vaccinations                       0\n",
              "total_vaccinations_per_hundred           0\n",
              "people_vaccinated_per_hundred            0\n",
              "people_fully_vaccinated_per_hundred      0\n",
              "daily_vaccinations_per_million           0\n",
              "vaccines                                 0\n",
              "source_name                              0\n",
              "source_website                           0\n",
              "dtype: int64"
            ]
          },
          "metadata": {
            "tags": []
          },
          "execution_count": 31
        }
      ]
    },
    {
      "cell_type": "code",
      "metadata": {
        "colab": {
          "base_uri": "https://localhost:8080/"
        },
        "id": "9FFrwc8ieUlY",
        "outputId": "d41d7a52-d82d-434e-bf54-2c99eb667233"
      },
      "source": [
        "scipy.stats.mannwhitneyu(df2.daily_vaccinations_raw, df2.daily_vaccinations)"
      ],
      "execution_count": null,
      "outputs": [
        {
          "output_type": "execute_result",
          "data": {
            "text/plain": [
              "MannwhitneyuResult(statistic=1144518.0, pvalue=1.6948147261094466e-09)"
            ]
          },
          "metadata": {
            "tags": []
          },
          "execution_count": 32
        }
      ]
    },
    {
      "cell_type": "code",
      "metadata": {
        "id": "ewn8AI9begvz"
      },
      "source": [
        "df.daily_vaccinations_raw = df.daily_vaccinations_raw.fillna(0)"
      ],
      "execution_count": null,
      "outputs": []
    },
    {
      "cell_type": "code",
      "metadata": {
        "colab": {
          "base_uri": "https://localhost:8080/"
        },
        "id": "PQHb5F4Tenyg",
        "outputId": "a871a9e5-5dca-4b16-8d4f-6a8db6a2bc63"
      },
      "source": [
        "df.isnull().sum()"
      ],
      "execution_count": null,
      "outputs": [
        {
          "output_type": "execute_result",
          "data": {
            "text/plain": [
              "country                                  0\n",
              "iso_code                               148\n",
              "date                                     0\n",
              "total_vaccinations                       0\n",
              "people_vaccinated                        0\n",
              "people_fully_vaccinated                  0\n",
              "daily_vaccinations_raw                   0\n",
              "daily_vaccinations                       0\n",
              "total_vaccinations_per_hundred           0\n",
              "people_vaccinated_per_hundred            0\n",
              "people_fully_vaccinated_per_hundred      0\n",
              "daily_vaccinations_per_million           0\n",
              "vaccines                                 0\n",
              "source_name                              0\n",
              "source_website                           0\n",
              "dtype: int64"
            ]
          },
          "metadata": {
            "tags": []
          },
          "execution_count": 34
        }
      ]
    },
    {
      "cell_type": "code",
      "metadata": {
        "colab": {
          "base_uri": "https://localhost:8080/",
          "height": 309
        },
        "id": "-vYDUO9zfWQ5",
        "outputId": "6266a2d6-90f2-4873-d52b-1e30be47186a"
      },
      "source": [
        "df.head()"
      ],
      "execution_count": null,
      "outputs": [
        {
          "output_type": "execute_result",
          "data": {
            "text/html": [
              "<div>\n",
              "<style scoped>\n",
              "    .dataframe tbody tr th:only-of-type {\n",
              "        vertical-align: middle;\n",
              "    }\n",
              "\n",
              "    .dataframe tbody tr th {\n",
              "        vertical-align: top;\n",
              "    }\n",
              "\n",
              "    .dataframe thead th {\n",
              "        text-align: right;\n",
              "    }\n",
              "</style>\n",
              "<table border=\"1\" class=\"dataframe\">\n",
              "  <thead>\n",
              "    <tr style=\"text-align: right;\">\n",
              "      <th></th>\n",
              "      <th>country</th>\n",
              "      <th>iso_code</th>\n",
              "      <th>date</th>\n",
              "      <th>total_vaccinations</th>\n",
              "      <th>people_vaccinated</th>\n",
              "      <th>people_fully_vaccinated</th>\n",
              "      <th>daily_vaccinations_raw</th>\n",
              "      <th>daily_vaccinations</th>\n",
              "      <th>total_vaccinations_per_hundred</th>\n",
              "      <th>people_vaccinated_per_hundred</th>\n",
              "      <th>people_fully_vaccinated_per_hundred</th>\n",
              "      <th>daily_vaccinations_per_million</th>\n",
              "      <th>vaccines</th>\n",
              "      <th>source_name</th>\n",
              "      <th>source_website</th>\n",
              "    </tr>\n",
              "  </thead>\n",
              "  <tbody>\n",
              "    <tr>\n",
              "      <th>0</th>\n",
              "      <td>Albania</td>\n",
              "      <td>ALB</td>\n",
              "      <td>2021-01-10</td>\n",
              "      <td>0.0</td>\n",
              "      <td>0.0</td>\n",
              "      <td>0.0</td>\n",
              "      <td>0.0</td>\n",
              "      <td>0.0</td>\n",
              "      <td>0.00</td>\n",
              "      <td>0.0</td>\n",
              "      <td>0.0</td>\n",
              "      <td>0.0</td>\n",
              "      <td>Pfizer/BioNTech</td>\n",
              "      <td>Ministry of Health</td>\n",
              "      <td>https://shendetesia.gov.al/vaksinimi-anticovid...</td>\n",
              "    </tr>\n",
              "    <tr>\n",
              "      <th>2</th>\n",
              "      <td>Albania</td>\n",
              "      <td>ALB</td>\n",
              "      <td>2021-01-12</td>\n",
              "      <td>128.0</td>\n",
              "      <td>128.0</td>\n",
              "      <td>0.0</td>\n",
              "      <td>0.0</td>\n",
              "      <td>64.0</td>\n",
              "      <td>0.00</td>\n",
              "      <td>128.0</td>\n",
              "      <td>0.0</td>\n",
              "      <td>22.0</td>\n",
              "      <td>Pfizer/BioNTech</td>\n",
              "      <td>Ministry of Health</td>\n",
              "      <td>https://shendetesia.gov.al/vaksinimi-anticovid...</td>\n",
              "    </tr>\n",
              "    <tr>\n",
              "      <th>3</th>\n",
              "      <td>Albania</td>\n",
              "      <td>ALB</td>\n",
              "      <td>2021-01-13</td>\n",
              "      <td>188.0</td>\n",
              "      <td>188.0</td>\n",
              "      <td>0.0</td>\n",
              "      <td>60.0</td>\n",
              "      <td>63.0</td>\n",
              "      <td>0.01</td>\n",
              "      <td>188.0</td>\n",
              "      <td>0.0</td>\n",
              "      <td>22.0</td>\n",
              "      <td>Pfizer/BioNTech</td>\n",
              "      <td>Ministry of Health</td>\n",
              "      <td>https://shendetesia.gov.al/vaksinimi-anticovid...</td>\n",
              "    </tr>\n",
              "    <tr>\n",
              "      <th>4</th>\n",
              "      <td>Albania</td>\n",
              "      <td>ALB</td>\n",
              "      <td>2021-01-14</td>\n",
              "      <td>266.0</td>\n",
              "      <td>266.0</td>\n",
              "      <td>0.0</td>\n",
              "      <td>78.0</td>\n",
              "      <td>66.0</td>\n",
              "      <td>0.01</td>\n",
              "      <td>266.0</td>\n",
              "      <td>0.0</td>\n",
              "      <td>23.0</td>\n",
              "      <td>Pfizer/BioNTech</td>\n",
              "      <td>Ministry of Health</td>\n",
              "      <td>https://shendetesia.gov.al/vaksinimi-anticovid...</td>\n",
              "    </tr>\n",
              "    <tr>\n",
              "      <th>5</th>\n",
              "      <td>Albania</td>\n",
              "      <td>ALB</td>\n",
              "      <td>2021-01-15</td>\n",
              "      <td>308.0</td>\n",
              "      <td>308.0</td>\n",
              "      <td>0.0</td>\n",
              "      <td>42.0</td>\n",
              "      <td>62.0</td>\n",
              "      <td>0.01</td>\n",
              "      <td>308.0</td>\n",
              "      <td>0.0</td>\n",
              "      <td>22.0</td>\n",
              "      <td>Pfizer/BioNTech</td>\n",
              "      <td>Ministry of Health</td>\n",
              "      <td>https://shendetesia.gov.al/vaksinimi-anticovid...</td>\n",
              "    </tr>\n",
              "  </tbody>\n",
              "</table>\n",
              "</div>"
            ],
            "text/plain": [
              "   country  ...                                     source_website\n",
              "0  Albania  ...  https://shendetesia.gov.al/vaksinimi-anticovid...\n",
              "2  Albania  ...  https://shendetesia.gov.al/vaksinimi-anticovid...\n",
              "3  Albania  ...  https://shendetesia.gov.al/vaksinimi-anticovid...\n",
              "4  Albania  ...  https://shendetesia.gov.al/vaksinimi-anticovid...\n",
              "5  Albania  ...  https://shendetesia.gov.al/vaksinimi-anticovid...\n",
              "\n",
              "[5 rows x 15 columns]"
            ]
          },
          "metadata": {
            "tags": []
          },
          "execution_count": 35
        }
      ]
    },
    {
      "cell_type": "code",
      "metadata": {
        "colab": {
          "base_uri": "https://localhost:8080/"
        },
        "id": "HzlqhmOZfeam",
        "outputId": "249206cf-bbe1-4541-d1d8-c6c4b755091e"
      },
      "source": [
        "df[df.iso_code.isna()].country.unique()"
      ],
      "execution_count": null,
      "outputs": [
        {
          "output_type": "execute_result",
          "data": {
            "text/plain": [
              "array(['England', 'Northern Ireland', 'Scotland', 'Wales'], dtype=object)"
            ]
          },
          "metadata": {
            "tags": []
          },
          "execution_count": 36
        }
      ]
    },
    {
      "cell_type": "code",
      "metadata": {
        "id": "7HwKfQD4f-Ei"
      },
      "source": [
        "df[df.country == 'England'] = df[df.country == 'England'].fillna('GB-ENG')\n",
        "df[df.country == 'Northern Ireland'] = df[df.country == 'Northern Ireland'].fillna('GB-NIR')\n",
        "df[df.country == 'Scotland']=df[df.country == 'Scotland'].fillna('GB-SCT')\n",
        "df[df.country == 'Wales']=df[df.country == 'Wales'].fillna('GB-WLS')"
      ],
      "execution_count": null,
      "outputs": []
    },
    {
      "cell_type": "code",
      "metadata": {
        "colab": {
          "base_uri": "https://localhost:8080/"
        },
        "id": "mBn0lSywgNWu",
        "outputId": "bb9e408b-ed97-4dc2-df5b-c942b3d45801"
      },
      "source": [
        "df.isnull().sum()"
      ],
      "execution_count": null,
      "outputs": [
        {
          "output_type": "execute_result",
          "data": {
            "text/plain": [
              "country                                0\n",
              "iso_code                               0\n",
              "date                                   0\n",
              "total_vaccinations                     0\n",
              "people_vaccinated                      0\n",
              "people_fully_vaccinated                0\n",
              "daily_vaccinations_raw                 0\n",
              "daily_vaccinations                     0\n",
              "total_vaccinations_per_hundred         0\n",
              "people_vaccinated_per_hundred          0\n",
              "people_fully_vaccinated_per_hundred    0\n",
              "daily_vaccinations_per_million         0\n",
              "vaccines                               0\n",
              "source_name                            0\n",
              "source_website                         0\n",
              "dtype: int64"
            ]
          },
          "metadata": {
            "tags": []
          },
          "execution_count": 38
        }
      ]
    },
    {
      "cell_type": "code",
      "metadata": {
        "id": "k7Ko9PRuhfsD"
      },
      "source": [
        "amount = df.groupby('country').max().sort_values('total_vaccinations',ascending=False)"
      ],
      "execution_count": null,
      "outputs": []
    },
    {
      "cell_type": "code",
      "metadata": {
        "colab": {
          "base_uri": "https://localhost:8080/",
          "height": 542
        },
        "id": "wHFVznNc3q_7",
        "outputId": "7ffa44c8-451c-41da-cad4-85b3d69e2151"
      },
      "source": [
        "plt.figure(figsize=(18,9))\n",
        "plt.bar(amount.index,amount.total_vaccinations)\n",
        "plt.xticks(rotation = 90)\n",
        "plt.xlabel('countries')\n",
        "plt.ylabel('no. of vaccinations')\n",
        "plt.show()"
      ],
      "execution_count": null,
      "outputs": [
        {
          "output_type": "display_data",
          "data": {
            "image/png": "[encoded data removed]",
            "text/plain": [
              "<Figure size 1296x648 with 1 Axes>"
            ]
          },
          "metadata": {
            "tags": [],
            "needs_background": "light"
          }
        }
      ]
    },
    {
      "cell_type": "code",
      "metadata": {
        "id": "kAuXK93Z3sQJ"
      },
      "source": [
        "vacc = df.groupby('vaccines').sum().sort_values('total_vaccinations',ascending=False)\n",
        "\n"
      ],
      "execution_count": null,
      "outputs": []
    },
    {
      "cell_type": "code",
      "metadata": {
        "colab": {
          "base_uri": "https://localhost:8080/",
          "height": 823
        },
        "id": "bBgfmtWi86yE",
        "outputId": "9362e886-cbe6-4272-b90e-462610b8691a"
      },
      "source": [
        "plt.figure(figsize=(12,6))\n",
        "plt.bar(vacc.index,vacc.total_vaccinations)\n",
        "plt.xticks(rotation = 90)\n",
        "plt.ylabel('Amount of vaccinated people')\n",
        "plt.xlabel('Vaccines')\n",
        "plt.show()"
      ],
      "execution_count": null,
      "outputs": [
        {
          "output_type": "display_data",
          "data": {
            "image/png": "[encoded data removed]",
            "text/plain": [
              "<Figure size 864x432 with 1 Axes>"
            ]
          },
          "metadata": {
            "tags": [],
            "needs_background": "light"
          }
        }
      ]
    },
    {
      "cell_type": "code",
      "metadata": {
        "id": "YACMISLO-1X7",
        "colab": {
          "base_uri": "https://localhost:8080/",
          "height": 309
        },
        "outputId": "173cbbe3-0ad9-440b-ee67-4117b24f7271"
      },
      "source": [
        "df.head()"
      ],
      "execution_count": null,
      "outputs": [
        {
          "output_type": "execute_result",
          "data": {
            "text/html": [
              "<div>\n",
              "<style scoped>\n",
              "    .dataframe tbody tr th:only-of-type {\n",
              "        vertical-align: middle;\n",
              "    }\n",
              "\n",
              "    .dataframe tbody tr th {\n",
              "        vertical-align: top;\n",
              "    }\n",
              "\n",
              "    .dataframe thead th {\n",
              "        text-align: right;\n",
              "    }\n",
              "</style>\n",
              "<table border=\"1\" class=\"dataframe\">\n",
              "  <thead>\n",
              "    <tr style=\"text-align: right;\">\n",
              "      <th></th>\n",
              "      <th>country</th>\n",
              "      <th>iso_code</th>\n",
              "      <th>date</th>\n",
              "      <th>total_vaccinations</th>\n",
              "      <th>people_vaccinated</th>\n",
              "      <th>people_fully_vaccinated</th>\n",
              "      <th>daily_vaccinations_raw</th>\n",
              "      <th>daily_vaccinations</th>\n",
              "      <th>total_vaccinations_per_hundred</th>\n",
              "      <th>people_vaccinated_per_hundred</th>\n",
              "      <th>people_fully_vaccinated_per_hundred</th>\n",
              "      <th>daily_vaccinations_per_million</th>\n",
              "      <th>vaccines</th>\n",
              "      <th>source_name</th>\n",
              "      <th>source_website</th>\n",
              "    </tr>\n",
              "  </thead>\n",
              "  <tbody>\n",
              "    <tr>\n",
              "      <th>0</th>\n",
              "      <td>Albania</td>\n",
              "      <td>ALB</td>\n",
              "      <td>2021-01-10</td>\n",
              "      <td>0.0</td>\n",
              "      <td>0.0</td>\n",
              "      <td>0.0</td>\n",
              "      <td>0.0</td>\n",
              "      <td>0.0</td>\n",
              "      <td>0.00</td>\n",
              "      <td>0.0</td>\n",
              "      <td>0.0</td>\n",
              "      <td>0.0</td>\n",
              "      <td>Pfizer/BioNTech</td>\n",
              "      <td>Ministry of Health</td>\n",
              "      <td>https://shendetesia.gov.al/vaksinimi-anticovid...</td>\n",
              "    </tr>\n",
              "    <tr>\n",
              "      <th>2</th>\n",
              "      <td>Albania</td>\n",
              "      <td>ALB</td>\n",
              "      <td>2021-01-12</td>\n",
              "      <td>128.0</td>\n",
              "      <td>128.0</td>\n",
              "      <td>0.0</td>\n",
              "      <td>0.0</td>\n",
              "      <td>64.0</td>\n",
              "      <td>0.00</td>\n",
              "      <td>128.0</td>\n",
              "      <td>0.0</td>\n",
              "      <td>22.0</td>\n",
              "      <td>Pfizer/BioNTech</td>\n",
              "      <td>Ministry of Health</td>\n",
              "      <td>https://shendetesia.gov.al/vaksinimi-anticovid...</td>\n",
              "    </tr>\n",
              "    <tr>\n",
              "      <th>3</th>\n",
              "      <td>Albania</td>\n",
              "      <td>ALB</td>\n",
              "      <td>2021-01-13</td>\n",
              "      <td>188.0</td>\n",
              "      <td>188.0</td>\n",
              "      <td>0.0</td>\n",
              "      <td>60.0</td>\n",
              "      <td>63.0</td>\n",
              "      <td>0.01</td>\n",
              "      <td>188.0</td>\n",
              "      <td>0.0</td>\n",
              "      <td>22.0</td>\n",
              "      <td>Pfizer/BioNTech</td>\n",
              "      <td>Ministry of Health</td>\n",
              "      <td>https://shendetesia.gov.al/vaksinimi-anticovid...</td>\n",
              "    </tr>\n",
              "    <tr>\n",
              "      <th>4</th>\n",
              "      <td>Albania</td>\n",
              "      <td>ALB</td>\n",
              "      <td>2021-01-14</td>\n",
              "      <td>266.0</td>\n",
              "      <td>266.0</td>\n",
              "      <td>0.0</td>\n",
              "      <td>78.0</td>\n",
              "      <td>66.0</td>\n",
              "      <td>0.01</td>\n",
              "      <td>266.0</td>\n",
              "      <td>0.0</td>\n",
              "      <td>23.0</td>\n",
              "      <td>Pfizer/BioNTech</td>\n",
              "      <td>Ministry of Health</td>\n",
              "      <td>https://shendetesia.gov.al/vaksinimi-anticovid...</td>\n",
              "    </tr>\n",
              "    <tr>\n",
              "      <th>5</th>\n",
              "      <td>Albania</td>\n",
              "      <td>ALB</td>\n",
              "      <td>2021-01-15</td>\n",
              "      <td>308.0</td>\n",
              "      <td>308.0</td>\n",
              "      <td>0.0</td>\n",
              "      <td>42.0</td>\n",
              "      <td>62.0</td>\n",
              "      <td>0.01</td>\n",
              "      <td>308.0</td>\n",
              "      <td>0.0</td>\n",
              "      <td>22.0</td>\n",
              "      <td>Pfizer/BioNTech</td>\n",
              "      <td>Ministry of Health</td>\n",
              "      <td>https://shendetesia.gov.al/vaksinimi-anticovid...</td>\n",
              "    </tr>\n",
              "  </tbody>\n",
              "</table>\n",
              "</div>"
            ],
            "text/plain": [
              "   country  ...                                     source_website\n",
              "0  Albania  ...  https://shendetesia.gov.al/vaksinimi-anticovid...\n",
              "2  Albania  ...  https://shendetesia.gov.al/vaksinimi-anticovid...\n",
              "3  Albania  ...  https://shendetesia.gov.al/vaksinimi-anticovid...\n",
              "4  Albania  ...  https://shendetesia.gov.al/vaksinimi-anticovid...\n",
              "5  Albania  ...  https://shendetesia.gov.al/vaksinimi-anticovid...\n",
              "\n",
              "[5 rows x 15 columns]"
            ]
          },
          "metadata": {
            "tags": []
          },
          "execution_count": 43
        }
      ]
    },
    {
      "cell_type": "code",
      "metadata": {
        "id": "XuPqzquNACcN"
      },
      "source": [
        "cols = ['date','total_vaccinations']\n"
      ],
      "execution_count": null,
      "outputs": []
    },
    {
      "cell_type": "code",
      "metadata": {
        "id": "MpBMDfh5RxwB"
      },
      "source": [
        "timeseries = df[cols].groupby('date').sum()[4:-1]"
      ],
      "execution_count": null,
      "outputs": []
    },
    {
      "cell_type": "code",
      "metadata": {
        "colab": {
          "base_uri": "https://localhost:8080/",
          "height": 235
        },
        "id": "8WUlYgJqSAGV",
        "outputId": "f2c247a3-9755-4052-c448-44cce0d63242"
      },
      "source": [
        "timeseries.head()"
      ],
      "execution_count": null,
      "outputs": [
        {
          "output_type": "execute_result",
          "data": {
            "text/html": [
              "<div>\n",
              "<style scoped>\n",
              "    .dataframe tbody tr th:only-of-type {\n",
              "        vertical-align: middle;\n",
              "    }\n",
              "\n",
              "    .dataframe tbody tr th {\n",
              "        vertical-align: top;\n",
              "    }\n",
              "\n",
              "    .dataframe thead th {\n",
              "        text-align: right;\n",
              "    }\n",
              "</style>\n",
              "<table border=\"1\" class=\"dataframe\">\n",
              "  <thead>\n",
              "    <tr style=\"text-align: right;\">\n",
              "      <th></th>\n",
              "      <th>total_vaccinations</th>\n",
              "    </tr>\n",
              "    <tr>\n",
              "      <th>date</th>\n",
              "      <th></th>\n",
              "    </tr>\n",
              "  </thead>\n",
              "  <tbody>\n",
              "    <tr>\n",
              "      <th>2020-12-21</th>\n",
              "      <td>646370.0</td>\n",
              "    </tr>\n",
              "    <tr>\n",
              "      <th>2020-12-22</th>\n",
              "      <td>128838.0</td>\n",
              "    </tr>\n",
              "    <tr>\n",
              "      <th>2020-12-23</th>\n",
              "      <td>1186438.0</td>\n",
              "    </tr>\n",
              "    <tr>\n",
              "      <th>2020-12-24</th>\n",
              "      <td>266217.0</td>\n",
              "    </tr>\n",
              "    <tr>\n",
              "      <th>2020-12-25</th>\n",
              "      <td>307030.0</td>\n",
              "    </tr>\n",
              "  </tbody>\n",
              "</table>\n",
              "</div>"
            ],
            "text/plain": [
              "            total_vaccinations\n",
              "date                          \n",
              "2020-12-21            646370.0\n",
              "2020-12-22            128838.0\n",
              "2020-12-23           1186438.0\n",
              "2020-12-24            266217.0\n",
              "2020-12-25            307030.0"
            ]
          },
          "metadata": {
            "tags": []
          },
          "execution_count": 46
        }
      ]
    },
    {
      "cell_type": "code",
      "metadata": {
        "colab": {
          "base_uri": "https://localhost:8080/",
          "height": 402
        },
        "id": "ZeC4Pl98Sdk6",
        "outputId": "5b5339fa-0670-4ff3-ace7-439d7e124158"
      },
      "source": [
        "plt.figure(figsize=(20,7))\n",
        "timeseries.total_vaccinations.plot()\n",
        "plt.xticks(rotation=90)\n"
      ],
      "execution_count": null,
      "outputs": [
        {
          "output_type": "execute_result",
          "data": {
            "text/plain": [
              "(array([-10.,   0.,  10.,  20.,  30.,  40.,  50.,  60.]),\n",
              " <a list of 8 Text major ticklabel objects>)"
            ]
          },
          "metadata": {
            "tags": []
          },
          "execution_count": 47
        },
        {
          "output_type": "display_data",
          "data": {
            "image/png": "[encoded data removed]",
            "text/plain": [
              "<Figure size 1440x504 with 1 Axes>"
            ]
          },
          "metadata": {
            "tags": [],
            "needs_background": "light"
          }
        }
      ]
    },
    {
      "cell_type": "code",
      "metadata": {
        "id": "LLqtzNm9Ta5U"
      },
      "source": [
        "data=df[['country','total_vaccinations','iso_code','vaccines']].groupby(['country','iso_code','vaccines']).sum().reset_index()"
      ],
      "execution_count": null,
      "outputs": []
    },
    {
      "cell_type": "code",
      "metadata": {
        "id": "18nRYJc5XBmV",
        "colab": {
          "base_uri": "https://localhost:8080/",
          "height": 204
        },
        "outputId": "0039ee07-34a4-4fce-fb2c-a0a5afcc83e3"
      },
      "source": [
        "data.head()"
      ],
      "execution_count": null,
      "outputs": [
        {
          "output_type": "execute_result",
          "data": {
            "text/html": [
              "<div>\n",
              "<style scoped>\n",
              "    .dataframe tbody tr th:only-of-type {\n",
              "        vertical-align: middle;\n",
              "    }\n",
              "\n",
              "    .dataframe tbody tr th {\n",
              "        vertical-align: top;\n",
              "    }\n",
              "\n",
              "    .dataframe thead th {\n",
              "        text-align: right;\n",
              "    }\n",
              "</style>\n",
              "<table border=\"1\" class=\"dataframe\">\n",
              "  <thead>\n",
              "    <tr style=\"text-align: right;\">\n",
              "      <th></th>\n",
              "      <th>country</th>\n",
              "      <th>iso_code</th>\n",
              "      <th>vaccines</th>\n",
              "      <th>total_vaccinations</th>\n",
              "    </tr>\n",
              "  </thead>\n",
              "  <tbody>\n",
              "    <tr>\n",
              "      <th>0</th>\n",
              "      <td>Albania</td>\n",
              "      <td>ALB</td>\n",
              "      <td>Pfizer/BioNTech</td>\n",
              "      <td>5339.0</td>\n",
              "    </tr>\n",
              "    <tr>\n",
              "      <th>1</th>\n",
              "      <td>Algeria</td>\n",
              "      <td>DZA</td>\n",
              "      <td>Sputnik V</td>\n",
              "      <td>30.0</td>\n",
              "    </tr>\n",
              "    <tr>\n",
              "      <th>2</th>\n",
              "      <td>Andorra</td>\n",
              "      <td>AND</td>\n",
              "      <td>Pfizer/BioNTech</td>\n",
              "      <td>2903.0</td>\n",
              "    </tr>\n",
              "    <tr>\n",
              "      <th>3</th>\n",
              "      <td>Anguilla</td>\n",
              "      <td>AIA</td>\n",
              "      <td>Oxford/AstraZeneca</td>\n",
              "      <td>1341.0</td>\n",
              "    </tr>\n",
              "    <tr>\n",
              "      <th>4</th>\n",
              "      <td>Argentina</td>\n",
              "      <td>ARG</td>\n",
              "      <td>Sputnik V</td>\n",
              "      <td>9395342.0</td>\n",
              "    </tr>\n",
              "  </tbody>\n",
              "</table>\n",
              "</div>"
            ],
            "text/plain": [
              "     country iso_code            vaccines  total_vaccinations\n",
              "0    Albania      ALB     Pfizer/BioNTech              5339.0\n",
              "1    Algeria      DZA           Sputnik V                30.0\n",
              "2    Andorra      AND     Pfizer/BioNTech              2903.0\n",
              "3   Anguilla      AIA  Oxford/AstraZeneca              1341.0\n",
              "4  Argentina      ARG           Sputnik V           9395342.0"
            ]
          },
          "metadata": {
            "tags": []
          },
          "execution_count": 49
        }
      ]
    },
    {
      "cell_type": "code",
      "metadata": {
        "colab": {
          "base_uri": "https://localhost:8080/",
          "height": 542
        },
        "id": "AhjrVLycHaOL",
        "outputId": "5e7518ed-b71e-482b-fa08-b153e81e2eda"
      },
      "source": [
        "px.scatter_geo(data,locations='iso_code',size='total_vaccinations',color='country',title='country by vaccinations')"
      ],
      "execution_count": null,
      "outputs": [
        {
          "output_type": "display_data",
          "data": {
            "text/html": [
              "<html>\n",
              "<head><meta charset=\"utf-8\" /></head>\n",
              "<body>\n",
              "    <div>\n",
              "            <script src=\"https://cdnjs.cloudflare.com/ajax/libs/mathjax/2.7.5/MathJax.js?config=TeX-AMS-MML_SVG\"></script><script type=\"text/javascript\">if (window.MathJax) {MathJax.Hub.Config({SVG: {font: \"STIX-Web\"}});}</script>\n",
              "                <script type=\"text/javascript\">window.PlotlyConfig = {MathJaxConfig: 'local'};</script>\n",
              "        <script src=\"https://cdn.plot.ly/plotly-latest.min.js\"></script>    \n",
              "            <div id=\"a9b2c4dc-20d9-4f45-a76b-0a11ccdddfcf\" class=\"plotly-graph-div\" style=\"height:525px; width:100%;\"></div>\n",
              "            <script type=\"text/javascript\">\n",
              "                \n",
              "                    window.PLOTLYENV=window.PLOTLYENV || {};\n",
              "                    \n",
              "                if (document.getElementById(\"a9b2c4dc-20d9-4f45-a76b-0a11ccdddfcf\")) {\n",
              "                    Plotly.newPlot(\n",
              "                        'a9b2c4dc-20d9-4f45-a76b-0a11ccdddfcf',\n",
              "                        [{\"geo\": \"geo\", \"hoverlabel\": {\"namelength\": 0}, \"hovertemplate\": \"country=Albania<br>total_vaccinations=%{marker.size}<br>iso_code=%{location}\", \"legendgroup\": \"country=Albania\", \"locations\": [\"ALB\"], \"marker\": {\"color\": \"#636efa\", \"size\": [5339.0], \"sizemode\": \"area\", \"sizeref\": 2291441.95}, \"name\": \"country=Albania\", \"showlegend\": true, \"type\": \"scattergeo\"}, {\"geo\": \"geo\", \"hoverlabel\": {\"namelength\": 0}, \"hovertemplate\": \"country=Algeria<br>total_vaccinations=%{marker.size}<br>iso_code=%{location}\", \"legendgroup\": \"country=Algeria\", \"locations\": [\"DZA\"], \"marker\": {\"color\": \"#EF553B\", \"size\": [30.0], \"sizemode\": \"area\", \"sizeref\": 2291441.95}, \"name\": \"country=Algeria\", \"showlegend\": true, \"type\": \"scattergeo\"}, {\"geo\": \"geo\", \"hoverlabel\": {\"namelength\": 0}, \"hovertemplate\": \"country=Andorra<br>total_vaccinations=%{marker.size}<br>iso_code=%{location}\", \"legendgroup\": \"country=Andorra\", \"locations\": [\"AND\"], \"marker\": {\"color\": \"#00cc96\", \"size\": [2903.0], \"sizemode\": \"area\", \"sizeref\": 2291441.95}, \"name\": \"country=Andorra\", \"showlegend\": true, \"type\": \"scattergeo\"}, {\"geo\": \"geo\", \"hoverlabel\": {\"namelength\": 0}, \"hovertemplate\": \"country=Anguilla<br>total_vaccinations=%{marker.size}<br>iso_code=%{location}\", \"legendgroup\": \"country=Anguilla\", \"locations\": [\"AIA\"], \"marker\": {\"color\": \"#ab63fa\", \"size\": [1341.0], \"sizemode\": \"area\", \"sizeref\": 2291441.95}, \"name\": \"country=Anguilla\", \"showlegend\": true, \"type\": \"scattergeo\"}, {\"geo\": \"geo\", \"hoverlabel\": {\"namelength\": 0}, \"hovertemplate\": \"country=Argentina<br>total_vaccinations=%{marker.size}<br>iso_code=%{location}\", \"legendgroup\": \"country=Argentina\", \"locations\": [\"ARG\"], \"marker\": {\"color\": \"#FFA15A\", \"size\": [9395342.0], \"sizemode\": \"area\", \"sizeref\": 2291441.95}, \"name\": \"country=Argentina\", \"showlegend\": true, \"type\": \"scattergeo\"}, {\"geo\": \"geo\", \"hoverlabel\": {\"namelength\": 0}, \"hovertemplate\": \"country=Austria<br>total_vaccinations=%{marker.size}<br>iso_code=%{location}\", \"legendgroup\": \"country=Austria\", \"locations\": [\"AUT\"], \"marker\": {\"color\": \"#19d3f3\", \"size\": [6156788.0], \"sizemode\": \"area\", \"sizeref\": 2291441.95}, \"name\": \"country=Austria\", \"showlegend\": true, \"type\": \"scattergeo\"}, {\"geo\": \"geo\", \"hoverlabel\": {\"namelength\": 0}, \"hovertemplate\": \"country=Azerbaijan<br>total_vaccinations=%{marker.size}<br>iso_code=%{location}\", \"legendgroup\": \"country=Azerbaijan\", \"locations\": [\"AZE\"], \"marker\": {\"color\": \"#FF6692\", \"size\": [65000.0], \"sizemode\": \"area\", \"sizeref\": 2291441.95}, \"name\": \"country=Azerbaijan\", \"showlegend\": true, \"type\": \"scattergeo\"}, {\"geo\": \"geo\", \"hoverlabel\": {\"namelength\": 0}, \"hovertemplate\": \"country=Bahrain<br>total_vaccinations=%{marker.size}<br>iso_code=%{location}\", \"legendgroup\": \"country=Bahrain\", \"locations\": [\"BHR\"], \"marker\": {\"color\": \"#B6E880\", \"size\": [6004334.0], \"sizemode\": \"area\", \"sizeref\": 2291441.95}, \"name\": \"country=Bahrain\", \"showlegend\": true, \"type\": \"scattergeo\"}, {\"geo\": \"geo\", \"hoverlabel\": {\"namelength\": 0}, \"hovertemplate\": \"country=Bangladesh<br>total_vaccinations=%{marker.size}<br>iso_code=%{location}\", \"legendgroup\": \"country=Bangladesh\", \"locations\": [\"BGD\"], \"marker\": {\"color\": \"#FF97FF\", \"size\": [1285520.0], \"sizemode\": \"area\", \"sizeref\": 2291441.95}, \"name\": \"country=Bangladesh\", \"showlegend\": true, \"type\": \"scattergeo\"}, {\"geo\": \"geo\", \"hoverlabel\": {\"namelength\": 0}, \"hovertemplate\": \"country=Belgium<br>total_vaccinations=%{marker.size}<br>iso_code=%{location}\", \"legendgroup\": \"country=Belgium\", \"locations\": [\"BEL\"], \"marker\": {\"color\": \"#FECB52\", \"size\": [9445408.0], \"sizemode\": \"area\", \"sizeref\": 2291441.95}, \"name\": \"country=Belgium\", \"showlegend\": true, \"type\": \"scattergeo\"}, {\"geo\": \"geo\", \"hoverlabel\": {\"namelength\": 0}, \"hovertemplate\": \"country=Bermuda<br>total_vaccinations=%{marker.size}<br>iso_code=%{location}\", \"legendgroup\": \"country=Bermuda\", \"locations\": [\"BMU\"], \"marker\": {\"color\": \"#636efa\", \"size\": [28589.0], \"sizemode\": \"area\", \"sizeref\": 2291441.95}, \"name\": \"country=Bermuda\", \"showlegend\": true, \"type\": \"scattergeo\"}, {\"geo\": \"geo\", \"hoverlabel\": {\"namelength\": 0}, \"hovertemplate\": \"country=Bolivia<br>total_vaccinations=%{marker.size}<br>iso_code=%{location}\", \"legendgroup\": \"country=Bolivia\", \"locations\": [\"BOL\"], \"marker\": {\"color\": \"#EF553B\", \"size\": [16008.0], \"sizemode\": \"area\", \"sizeref\": 2291441.95}, \"name\": \"country=Bolivia\", \"showlegend\": true, \"type\": \"scattergeo\"}, {\"geo\": \"geo\", \"hoverlabel\": {\"namelength\": 0}, \"hovertemplate\": \"country=Brazil<br>total_vaccinations=%{marker.size}<br>iso_code=%{location}\", \"legendgroup\": \"country=Brazil\", \"locations\": [\"BRA\"], \"marker\": {\"color\": \"#00cc96\", \"size\": [57257547.0], \"sizemode\": \"area\", \"sizeref\": 2291441.95}, \"name\": \"country=Brazil\", \"showlegend\": true, \"type\": \"scattergeo\"}, {\"geo\": \"geo\", \"hoverlabel\": {\"namelength\": 0}, \"hovertemplate\": \"country=Bulgaria<br>total_vaccinations=%{marker.size}<br>iso_code=%{location}\", \"legendgroup\": \"country=Bulgaria\", \"locations\": [\"BGR\"], \"marker\": {\"color\": \"#ab63fa\", \"size\": [1373206.0], \"sizemode\": \"area\", \"sizeref\": 2291441.95}, \"name\": \"country=Bulgaria\", \"showlegend\": true, \"type\": \"scattergeo\"}, {\"geo\": \"geo\", \"hoverlabel\": {\"namelength\": 0}, \"hovertemplate\": \"country=Cambodia<br>total_vaccinations=%{marker.size}<br>iso_code=%{location}\", \"legendgroup\": \"country=Cambodia\", \"locations\": [\"KHM\"], \"marker\": {\"color\": \"#FFA15A\", \"size\": [1492.0], \"sizemode\": \"area\", \"sizeref\": 2291441.95}, \"name\": \"country=Cambodia\", \"showlegend\": true, \"type\": \"scattergeo\"}, {\"geo\": \"geo\", \"hoverlabel\": {\"namelength\": 0}, \"hovertemplate\": \"country=Canada<br>total_vaccinations=%{marker.size}<br>iso_code=%{location}\", \"legendgroup\": \"country=Canada\", \"locations\": [\"CAN\"], \"marker\": {\"color\": \"#19d3f3\", \"size\": [19199072.0], \"sizemode\": \"area\", \"sizeref\": 2291441.95}, \"name\": \"country=Canada\", \"showlegend\": true, \"type\": \"scattergeo\"}, {\"geo\": \"geo\", \"hoverlabel\": {\"namelength\": 0}, \"hovertemplate\": \"country=Cayman Islands<br>total_vaccinations=%{marker.size}<br>iso_code=%{location}\", \"legendgroup\": \"country=Cayman Islands\", \"locations\": [\"CYM\"], \"marker\": {\"color\": \"#FF6692\", \"size\": [54246.0], \"sizemode\": \"area\", \"sizeref\": 2291441.95}, \"name\": \"country=Cayman Islands\", \"showlegend\": true, \"type\": \"scattergeo\"}, {\"geo\": \"geo\", \"hoverlabel\": {\"namelength\": 0}, \"hovertemplate\": \"country=Chile<br>total_vaccinations=%{marker.size}<br>iso_code=%{location}\", \"legendgroup\": \"country=Chile\", \"locations\": [\"CHL\"], \"marker\": {\"color\": \"#B6E880\", \"size\": [12590089.0], \"sizemode\": \"area\", \"sizeref\": 2291441.95}, \"name\": \"country=Chile\", \"showlegend\": true, \"type\": \"scattergeo\"}, {\"geo\": \"geo\", \"hoverlabel\": {\"namelength\": 0}, \"hovertemplate\": \"country=China<br>total_vaccinations=%{marker.size}<br>iso_code=%{location}\", \"legendgroup\": \"country=China\", \"locations\": [\"CHN\"], \"marker\": {\"color\": \"#FF97FF\", \"size\": [158487000.0], \"sizemode\": \"area\", \"sizeref\": 2291441.95}, \"name\": \"country=China\", \"showlegend\": true, \"type\": \"scattergeo\"}, {\"geo\": \"geo\", \"hoverlabel\": {\"namelength\": 0}, \"hovertemplate\": \"country=Costa Rica<br>total_vaccinations=%{marker.size}<br>iso_code=%{location}\", \"legendgroup\": \"country=Costa Rica\", \"locations\": [\"CRI\"], \"marker\": {\"color\": \"#FECB52\", \"size\": [247451.0], \"sizemode\": \"area\", \"sizeref\": 2291441.95}, \"name\": \"country=Costa Rica\", \"showlegend\": true, \"type\": \"scattergeo\"}, {\"geo\": \"geo\", \"hoverlabel\": {\"namelength\": 0}, \"hovertemplate\": \"country=Croatia<br>total_vaccinations=%{marker.size}<br>iso_code=%{location}\", \"legendgroup\": \"country=Croatia\", \"locations\": [\"HRV\"], \"marker\": {\"color\": \"#636efa\", \"size\": [1021108.0], \"sizemode\": \"area\", \"sizeref\": 2291441.95}, \"name\": \"country=Croatia\", \"showlegend\": true, \"type\": \"scattergeo\"}, {\"geo\": \"geo\", \"hoverlabel\": {\"namelength\": 0}, \"hovertemplate\": \"country=Cyprus<br>total_vaccinations=%{marker.size}<br>iso_code=%{location}\", \"legendgroup\": \"country=Cyprus\", \"locations\": [\"CYP\"], \"marker\": {\"color\": \"#EF553B\", \"size\": [151219.0], \"sizemode\": \"area\", \"sizeref\": 2291441.95}, \"name\": \"country=Cyprus\", \"showlegend\": true, \"type\": \"scattergeo\"}, {\"geo\": \"geo\", \"hoverlabel\": {\"namelength\": 0}, \"hovertemplate\": \"country=Czechia<br>total_vaccinations=%{marker.size}<br>iso_code=%{location}\", \"legendgroup\": \"country=Czechia\", \"locations\": [\"CZE\"], \"marker\": {\"color\": \"#00cc96\", \"size\": [8791774.0], \"sizemode\": \"area\", \"sizeref\": 2291441.95}, \"name\": \"country=Czechia\", \"showlegend\": true, \"type\": \"scattergeo\"}, {\"geo\": \"geo\", \"hoverlabel\": {\"namelength\": 0}, \"hovertemplate\": \"country=Denmark<br>total_vaccinations=%{marker.size}<br>iso_code=%{location}\", \"legendgroup\": \"country=Denmark\", \"locations\": [\"DNK\"], \"marker\": {\"color\": \"#ab63fa\", \"size\": [8935434.0], \"sizemode\": \"area\", \"sizeref\": 2291441.95}, \"name\": \"country=Denmark\", \"showlegend\": true, \"type\": \"scattergeo\"}, {\"geo\": \"geo\", \"hoverlabel\": {\"namelength\": 0}, \"hovertemplate\": \"country=Ecuador<br>total_vaccinations=%{marker.size}<br>iso_code=%{location}\", \"legendgroup\": \"country=Ecuador\", \"locations\": [\"ECU\"], \"marker\": {\"color\": \"#FFA15A\", \"size\": [9318.0], \"sizemode\": \"area\", \"sizeref\": 2291441.95}, \"name\": \"country=Ecuador\", \"showlegend\": true, \"type\": \"scattergeo\"}, {\"geo\": \"geo\", \"hoverlabel\": {\"namelength\": 0}, \"hovertemplate\": \"country=Egypt<br>total_vaccinations=%{marker.size}<br>iso_code=%{location}\", \"legendgroup\": \"country=Egypt\", \"locations\": [\"EGY\"], \"marker\": {\"color\": \"#19d3f3\", \"size\": [1315.0], \"sizemode\": \"area\", \"sizeref\": 2291441.95}, \"name\": \"country=Egypt\", \"showlegend\": true, \"type\": \"scattergeo\"}, {\"geo\": \"geo\", \"hoverlabel\": {\"namelength\": 0}, \"hovertemplate\": \"country=England<br>total_vaccinations=%{marker.size}<br>iso_code=%{location}\", \"legendgroup\": \"country=England\", \"locations\": [\"GB-ENG\"], \"marker\": {\"color\": \"#FF6692\", \"size\": [244425767.0], \"sizemode\": \"area\", \"sizeref\": 2291441.95}, \"name\": \"country=England\", \"showlegend\": true, \"type\": \"scattergeo\"}, {\"geo\": \"geo\", \"hoverlabel\": {\"namelength\": 0}, \"hovertemplate\": \"country=Estonia<br>total_vaccinations=%{marker.size}<br>iso_code=%{location}\", \"legendgroup\": \"country=Estonia\", \"locations\": [\"EST\"], \"marker\": {\"color\": \"#B6E880\", \"size\": [1170132.0], \"sizemode\": \"area\", \"sizeref\": 2291441.95}, \"name\": \"country=Estonia\", \"showlegend\": true, \"type\": \"scattergeo\"}, {\"geo\": \"geo\", \"hoverlabel\": {\"namelength\": 0}, \"hovertemplate\": \"country=Faeroe Islands<br>total_vaccinations=%{marker.size}<br>iso_code=%{location}\", \"legendgroup\": \"country=Faeroe Islands\", \"locations\": [\"FRO\"], \"marker\": {\"color\": \"#FF97FF\", \"size\": [18789.0], \"sizemode\": \"area\", \"sizeref\": 2291441.95}, \"name\": \"country=Faeroe Islands\", \"showlegend\": true, \"type\": \"scattergeo\"}, {\"geo\": \"geo\", \"hoverlabel\": {\"namelength\": 0}, \"hovertemplate\": \"country=Finland<br>total_vaccinations=%{marker.size}<br>iso_code=%{location}\", \"legendgroup\": \"country=Finland\", \"locations\": [\"FIN\"], \"marker\": {\"color\": \"#FECB52\", \"size\": [4114308.0], \"sizemode\": \"area\", \"sizeref\": 2291441.95}, \"name\": \"country=Finland\", \"showlegend\": true, \"type\": \"scattergeo\"}, {\"geo\": \"geo\", \"hoverlabel\": {\"namelength\": 0}, \"hovertemplate\": \"country=France<br>total_vaccinations=%{marker.size}<br>iso_code=%{location}\", \"legendgroup\": \"country=France\", \"locations\": [\"FRA\"], \"marker\": {\"color\": \"#636efa\", \"size\": [43378719.0], \"sizemode\": \"area\", \"sizeref\": 2291441.95}, \"name\": \"country=France\", \"showlegend\": true, \"type\": \"scattergeo\"}, {\"geo\": \"geo\", \"hoverlabel\": {\"namelength\": 0}, \"hovertemplate\": \"country=Germany<br>total_vaccinations=%{marker.size}<br>iso_code=%{location}\", \"legendgroup\": \"country=Germany\", \"locations\": [\"DEU\"], \"marker\": {\"color\": \"#EF553B\", \"size\": [77754621.0], \"sizemode\": \"area\", \"sizeref\": 2291441.95}, \"name\": \"country=Germany\", \"showlegend\": true, \"type\": \"scattergeo\"}, {\"geo\": \"geo\", \"hoverlabel\": {\"namelength\": 0}, \"hovertemplate\": \"country=Gibraltar<br>total_vaccinations=%{marker.size}<br>iso_code=%{location}\", \"legendgroup\": \"country=Gibraltar\", \"locations\": [\"GIB\"], \"marker\": {\"color\": \"#00cc96\", \"size\": [393041.0], \"sizemode\": \"area\", \"sizeref\": 2291441.95}, \"name\": \"country=Gibraltar\", \"showlegend\": true, \"type\": \"scattergeo\"}, {\"geo\": \"geo\", \"hoverlabel\": {\"namelength\": 0}, \"hovertemplate\": \"country=Greece<br>total_vaccinations=%{marker.size}<br>iso_code=%{location}\", \"legendgroup\": \"country=Greece\", \"locations\": [\"GRC\"], \"marker\": {\"color\": \"#ab63fa\", \"size\": [7595632.0], \"sizemode\": \"area\", \"sizeref\": 2291441.95}, \"name\": \"country=Greece\", \"showlegend\": true, \"type\": \"scattergeo\"}, {\"geo\": \"geo\", \"hoverlabel\": {\"namelength\": 0}, \"hovertemplate\": \"country=Greenland<br>total_vaccinations=%{marker.size}<br>iso_code=%{location}\", \"legendgroup\": \"country=Greenland\", \"locations\": [\"GRL\"], \"marker\": {\"color\": \"#FFA15A\", \"size\": [2584.0], \"sizemode\": \"area\", \"sizeref\": 2291441.95}, \"name\": \"country=Greenland\", \"showlegend\": true, \"type\": \"scattergeo\"}, {\"geo\": \"geo\", \"hoverlabel\": {\"namelength\": 0}, \"hovertemplate\": \"country=Guernsey<br>total_vaccinations=%{marker.size}<br>iso_code=%{location}\", \"legendgroup\": \"country=Guernsey\", \"locations\": [\"GGY\"], \"marker\": {\"color\": \"#19d3f3\", \"size\": [16620.0], \"sizemode\": \"area\", \"sizeref\": 2291441.95}, \"name\": \"country=Guernsey\", \"showlegend\": true, \"type\": \"scattergeo\"}, {\"geo\": \"geo\", \"hoverlabel\": {\"namelength\": 0}, \"hovertemplate\": \"country=Hungary<br>total_vaccinations=%{marker.size}<br>iso_code=%{location}\", \"legendgroup\": \"country=Hungary\", \"locations\": [\"HUN\"], \"marker\": {\"color\": \"#FF6692\", \"size\": [8559920.0], \"sizemode\": \"area\", \"sizeref\": 2291441.95}, \"name\": \"country=Hungary\", \"showlegend\": true, \"type\": \"scattergeo\"}, {\"geo\": \"geo\", \"hoverlabel\": {\"namelength\": 0}, \"hovertemplate\": \"country=Iceland<br>total_vaccinations=%{marker.size}<br>iso_code=%{location}\", \"legendgroup\": \"country=Iceland\", \"locations\": [\"ISL\"], \"marker\": {\"color\": \"#B6E880\", \"size\": [113569.0], \"sizemode\": \"area\", \"sizeref\": 2291441.95}, \"name\": \"country=Iceland\", \"showlegend\": true, \"type\": \"scattergeo\"}, {\"geo\": \"geo\", \"hoverlabel\": {\"namelength\": 0}, \"hovertemplate\": \"country=India<br>total_vaccinations=%{marker.size}<br>iso_code=%{location}\", \"legendgroup\": \"country=India\", \"locations\": [\"IND\"], \"marker\": {\"color\": \"#FF97FF\", \"size\": [106450008.0], \"sizemode\": \"area\", \"sizeref\": 2291441.95}, \"name\": \"country=India\", \"showlegend\": true, \"type\": \"scattergeo\"}, {\"geo\": \"geo\", \"hoverlabel\": {\"namelength\": 0}, \"hovertemplate\": \"country=Indonesia<br>total_vaccinations=%{marker.size}<br>iso_code=%{location}\", \"legendgroup\": \"country=Indonesia\", \"locations\": [\"IDN\"], \"marker\": {\"color\": \"#FECB52\", \"size\": [14386749.0], \"sizemode\": \"area\", \"sizeref\": 2291441.95}, \"name\": \"country=Indonesia\", \"showlegend\": true, \"type\": \"scattergeo\"}, {\"geo\": \"geo\", \"hoverlabel\": {\"namelength\": 0}, \"hovertemplate\": \"country=Iran<br>total_vaccinations=%{marker.size}<br>iso_code=%{location}\", \"legendgroup\": \"country=Iran\", \"locations\": [\"IRN\"], \"marker\": {\"color\": \"#636efa\", \"size\": [3000.0], \"sizemode\": \"area\", \"sizeref\": 2291441.95}, \"name\": \"country=Iran\", \"showlegend\": true, \"type\": \"scattergeo\"}, {\"geo\": \"geo\", \"hoverlabel\": {\"namelength\": 0}, \"hovertemplate\": \"country=Ireland<br>total_vaccinations=%{marker.size}<br>iso_code=%{location}\", \"legendgroup\": \"country=Ireland\", \"locations\": [\"IRL\"], \"marker\": {\"color\": \"#EF553B\", \"size\": [2078188.0], \"sizemode\": \"area\", \"sizeref\": 2291441.95}, \"name\": \"country=Ireland\", \"showlegend\": true, \"type\": \"scattergeo\"}, {\"geo\": \"geo\", \"hoverlabel\": {\"namelength\": 0}, \"hovertemplate\": \"country=Isle of Man<br>total_vaccinations=%{marker.size}<br>iso_code=%{location}\", \"legendgroup\": \"country=Isle of Man\", \"locations\": [\"IMN\"], \"marker\": {\"color\": \"#00cc96\", \"size\": [170680.0], \"sizemode\": \"area\", \"sizeref\": 2291441.95}, \"name\": \"country=Isle of Man\", \"showlegend\": true, \"type\": \"scattergeo\"}, {\"geo\": \"geo\", \"hoverlabel\": {\"namelength\": 0}, \"hovertemplate\": \"country=Israel<br>total_vaccinations=%{marker.size}<br>iso_code=%{location}\", \"legendgroup\": \"country=Israel\", \"locations\": [\"ISR\"], \"marker\": {\"color\": \"#ab63fa\", \"size\": [164526770.0], \"sizemode\": \"area\", \"sizeref\": 2291441.95}, \"name\": \"country=Israel\", \"showlegend\": true, \"type\": \"scattergeo\"}, {\"geo\": \"geo\", \"hoverlabel\": {\"namelength\": 0}, \"hovertemplate\": \"country=Italy<br>total_vaccinations=%{marker.size}<br>iso_code=%{location}\", \"legendgroup\": \"country=Italy\", \"locations\": [\"ITA\"], \"marker\": {\"color\": \"#FFA15A\", \"size\": [65390294.0], \"sizemode\": \"area\", \"sizeref\": 2291441.95}, \"name\": \"country=Italy\", \"showlegend\": true, \"type\": \"scattergeo\"}, {\"geo\": \"geo\", \"hoverlabel\": {\"namelength\": 0}, \"hovertemplate\": \"country=Jersey<br>total_vaccinations=%{marker.size}<br>iso_code=%{location}\", \"legendgroup\": \"country=Jersey\", \"locations\": [\"JEY\"], \"marker\": {\"color\": \"#19d3f3\", \"size\": [47230.0], \"sizemode\": \"area\", \"sizeref\": 2291441.95}, \"name\": \"country=Jersey\", \"showlegend\": true, \"type\": \"scattergeo\"}, {\"geo\": \"geo\", \"hoverlabel\": {\"namelength\": 0}, \"hovertemplate\": \"country=Kuwait<br>total_vaccinations=%{marker.size}<br>iso_code=%{location}\", \"legendgroup\": \"country=Kuwait\", \"locations\": [\"KWT\"], \"marker\": {\"color\": \"#FF6692\", \"size\": [37500.0], \"sizemode\": \"area\", \"sizeref\": 2291441.95}, \"name\": \"country=Kuwait\", \"showlegend\": true, \"type\": \"scattergeo\"}, {\"geo\": \"geo\", \"hoverlabel\": {\"namelength\": 0}, \"hovertemplate\": \"country=Latvia<br>total_vaccinations=%{marker.size}<br>iso_code=%{location}\", \"legendgroup\": \"country=Latvia\", \"locations\": [\"LVA\"], \"marker\": {\"color\": \"#B6E880\", \"size\": [634603.0], \"sizemode\": \"area\", \"sizeref\": 2291441.95}, \"name\": \"country=Latvia\", \"showlegend\": true, \"type\": \"scattergeo\"}, {\"geo\": \"geo\", \"hoverlabel\": {\"namelength\": 0}, \"hovertemplate\": \"country=Liechtenstein<br>total_vaccinations=%{marker.size}<br>iso_code=%{location}\", \"legendgroup\": \"country=Liechtenstein\", \"locations\": [\"LIE\"], \"marker\": {\"color\": \"#FF97FF\", \"size\": [1851.0], \"sizemode\": \"area\", \"sizeref\": 2291441.95}, \"name\": \"country=Liechtenstein\", \"showlegend\": true, \"type\": \"scattergeo\"}, {\"geo\": \"geo\", \"hoverlabel\": {\"namelength\": 0}, \"hovertemplate\": \"country=Lithuania<br>total_vaccinations=%{marker.size}<br>iso_code=%{location}\", \"legendgroup\": \"country=Lithuania\", \"locations\": [\"LTU\"], \"marker\": {\"color\": \"#FECB52\", \"size\": [3046763.0], \"sizemode\": \"area\", \"sizeref\": 2291441.95}, \"name\": \"country=Lithuania\", \"showlegend\": true, \"type\": \"scattergeo\"}, {\"geo\": \"geo\", \"hoverlabel\": {\"namelength\": 0}, \"hovertemplate\": \"country=Luxembourg<br>total_vaccinations=%{marker.size}<br>iso_code=%{location}\", \"legendgroup\": \"country=Luxembourg\", \"locations\": [\"LUX\"], \"marker\": {\"color\": \"#636efa\", \"size\": [245708.0], \"sizemode\": \"area\", \"sizeref\": 2291441.95}, \"name\": \"country=Luxembourg\", \"showlegend\": true, \"type\": \"scattergeo\"}, {\"geo\": \"geo\", \"hoverlabel\": {\"namelength\": 0}, \"hovertemplate\": \"country=Maldives<br>total_vaccinations=%{marker.size}<br>iso_code=%{location}\", \"legendgroup\": \"country=Maldives\", \"locations\": [\"MDV\"], \"marker\": {\"color\": \"#EF553B\", \"size\": [101210.0], \"sizemode\": \"area\", \"sizeref\": 2291441.95}, \"name\": \"country=Maldives\", \"showlegend\": true, \"type\": \"scattergeo\"}, {\"geo\": \"geo\", \"hoverlabel\": {\"namelength\": 0}, \"hovertemplate\": \"country=Malta<br>total_vaccinations=%{marker.size}<br>iso_code=%{location}\", \"legendgroup\": \"country=Malta\", \"locations\": [\"MLT\"], \"marker\": {\"color\": \"#00cc96\", \"size\": [760592.0], \"sizemode\": \"area\", \"sizeref\": 2291441.95}, \"name\": \"country=Malta\", \"showlegend\": true, \"type\": \"scattergeo\"}, {\"geo\": \"geo\", \"hoverlabel\": {\"namelength\": 0}, \"hovertemplate\": \"country=Mauritius<br>total_vaccinations=%{marker.size}<br>iso_code=%{location}\", \"legendgroup\": \"country=Mauritius\", \"locations\": [\"MUS\"], \"marker\": {\"color\": \"#ab63fa\", \"size\": [207.0], \"sizemode\": \"area\", \"sizeref\": 2291441.95}, \"name\": \"country=Mauritius\", \"showlegend\": true, \"type\": \"scattergeo\"}, {\"geo\": \"geo\", \"hoverlabel\": {\"namelength\": 0}, \"hovertemplate\": \"country=Mexico<br>total_vaccinations=%{marker.size}<br>iso_code=%{location}\", \"legendgroup\": \"country=Mexico\", \"locations\": [\"MEX\"], \"marker\": {\"color\": \"#FFA15A\", \"size\": [19546614.0], \"sizemode\": \"area\", \"sizeref\": 2291441.95}, \"name\": \"country=Mexico\", \"showlegend\": true, \"type\": \"scattergeo\"}, {\"geo\": \"geo\", \"hoverlabel\": {\"namelength\": 0}, \"hovertemplate\": \"country=Monaco<br>total_vaccinations=%{marker.size}<br>iso_code=%{location}\", \"legendgroup\": \"country=Monaco\", \"locations\": [\"MCO\"], \"marker\": {\"color\": \"#19d3f3\", \"size\": [2400.0], \"sizemode\": \"area\", \"sizeref\": 2291441.95}, \"name\": \"country=Monaco\", \"showlegend\": true, \"type\": \"scattergeo\"}, {\"geo\": \"geo\", \"hoverlabel\": {\"namelength\": 0}, \"hovertemplate\": \"country=Morocco<br>total_vaccinations=%{marker.size}<br>iso_code=%{location}\", \"legendgroup\": \"country=Morocco\", \"locations\": [\"MAR\"], \"marker\": {\"color\": \"#FF6692\", \"size\": [7473100.0], \"sizemode\": \"area\", \"sizeref\": 2291441.95}, \"name\": \"country=Morocco\", \"showlegend\": true, \"type\": \"scattergeo\"}, {\"geo\": \"geo\", \"hoverlabel\": {\"namelength\": 0}, \"hovertemplate\": \"country=Myanmar<br>total_vaccinations=%{marker.size}<br>iso_code=%{location}\", \"legendgroup\": \"country=Myanmar\", \"locations\": [\"MMR\"], \"marker\": {\"color\": \"#B6E880\", \"size\": [106942.0], \"sizemode\": \"area\", \"sizeref\": 2291441.95}, \"name\": \"country=Myanmar\", \"showlegend\": true, \"type\": \"scattergeo\"}, {\"geo\": \"geo\", \"hoverlabel\": {\"namelength\": 0}, \"hovertemplate\": \"country=Nepal<br>total_vaccinations=%{marker.size}<br>iso_code=%{location}\", \"legendgroup\": \"country=Nepal\", \"locations\": [\"NPL\"], \"marker\": {\"color\": \"#FF97FF\", \"size\": [271662.0], \"sizemode\": \"area\", \"sizeref\": 2291441.95}, \"name\": \"country=Nepal\", \"showlegend\": true, \"type\": \"scattergeo\"}, {\"geo\": \"geo\", \"hoverlabel\": {\"namelength\": 0}, \"hovertemplate\": \"country=Netherlands<br>total_vaccinations=%{marker.size}<br>iso_code=%{location}\", \"legendgroup\": \"country=Netherlands\", \"locations\": [\"NLD\"], \"marker\": {\"color\": \"#FECB52\", \"size\": [6108839.0], \"sizemode\": \"area\", \"sizeref\": 2291441.95}, \"name\": \"country=Netherlands\", \"showlegend\": true, \"type\": \"scattergeo\"}, {\"geo\": \"geo\", \"hoverlabel\": {\"namelength\": 0}, \"hovertemplate\": \"country=Northern Cyprus<br>total_vaccinations=%{marker.size}<br>iso_code=%{location}\", \"legendgroup\": \"country=Northern Cyprus\", \"locations\": [\"OWID_NCY\"], \"marker\": {\"color\": \"#636efa\", \"size\": [15968.0], \"sizemode\": \"area\", \"sizeref\": 2291441.95}, \"name\": \"country=Northern Cyprus\", \"showlegend\": true, \"type\": \"scattergeo\"}, {\"geo\": \"geo\", \"hoverlabel\": {\"namelength\": 0}, \"hovertemplate\": \"country=Northern Ireland<br>total_vaccinations=%{marker.size}<br>iso_code=%{location}\", \"legendgroup\": \"country=Northern Ireland\", \"locations\": [\"GB-NIR\"], \"marker\": {\"color\": \"#EF553B\", \"size\": [7774692.0], \"sizemode\": \"area\", \"sizeref\": 2291441.95}, \"name\": \"country=Northern Ireland\", \"showlegend\": true, \"type\": \"scattergeo\"}, {\"geo\": \"geo\", \"hoverlabel\": {\"namelength\": 0}, \"hovertemplate\": \"country=Norway<br>total_vaccinations=%{marker.size}<br>iso_code=%{location}\", \"legendgroup\": \"country=Norway\", \"locations\": [\"NOR\"], \"marker\": {\"color\": \"#00cc96\", \"size\": [4003508.0], \"sizemode\": \"area\", \"sizeref\": 2291441.95}, \"name\": \"country=Norway\", \"showlegend\": true, \"type\": \"scattergeo\"}, {\"geo\": \"geo\", \"hoverlabel\": {\"namelength\": 0}, \"hovertemplate\": \"country=Oman<br>total_vaccinations=%{marker.size}<br>iso_code=%{location}\", \"legendgroup\": \"country=Oman\", \"locations\": [\"OMN\"], \"marker\": {\"color\": \"#ab63fa\", \"size\": [779467.0], \"sizemode\": \"area\", \"sizeref\": 2291441.95}, \"name\": \"country=Oman\", \"showlegend\": true, \"type\": \"scattergeo\"}, {\"geo\": \"geo\", \"hoverlabel\": {\"namelength\": 0}, \"hovertemplate\": \"country=Pakistan<br>total_vaccinations=%{marker.size}<br>iso_code=%{location}\", \"legendgroup\": \"country=Pakistan\", \"locations\": [\"PAK\"], \"marker\": {\"color\": \"#FFA15A\", \"size\": [27228.0], \"sizemode\": \"area\", \"sizeref\": 2291441.95}, \"name\": \"country=Pakistan\", \"showlegend\": true, \"type\": \"scattergeo\"}, {\"geo\": \"geo\", \"hoverlabel\": {\"namelength\": 0}, \"hovertemplate\": \"country=Panama<br>total_vaccinations=%{marker.size}<br>iso_code=%{location}\", \"legendgroup\": \"country=Panama\", \"locations\": [\"PAN\"], \"marker\": {\"color\": \"#19d3f3\", \"size\": [212582.0], \"sizemode\": \"area\", \"sizeref\": 2291441.95}, \"name\": \"country=Panama\", \"showlegend\": true, \"type\": \"scattergeo\"}, {\"geo\": \"geo\", \"hoverlabel\": {\"namelength\": 0}, \"hovertemplate\": \"country=Peru<br>total_vaccinations=%{marker.size}<br>iso_code=%{location}\", \"legendgroup\": \"country=Peru\", \"locations\": [\"PER\"], \"marker\": {\"color\": \"#FF6692\", \"size\": [166790.0], \"sizemode\": \"area\", \"sizeref\": 2291441.95}, \"name\": \"country=Peru\", \"showlegend\": true, \"type\": \"scattergeo\"}, {\"geo\": \"geo\", \"hoverlabel\": {\"namelength\": 0}, \"hovertemplate\": \"country=Poland<br>total_vaccinations=%{marker.size}<br>iso_code=%{location}\", \"legendgroup\": \"country=Poland\", \"locations\": [\"POL\"], \"marker\": {\"color\": \"#B6E880\", \"size\": [32073092.0], \"sizemode\": \"area\", \"sizeref\": 2291441.95}, \"name\": \"country=Poland\", \"showlegend\": true, \"type\": \"scattergeo\"}, {\"geo\": \"geo\", \"hoverlabel\": {\"namelength\": 0}, \"hovertemplate\": \"country=Portugal<br>total_vaccinations=%{marker.size}<br>iso_code=%{location}\", \"legendgroup\": \"country=Portugal\", \"locations\": [\"PRT\"], \"marker\": {\"color\": \"#FF97FF\", \"size\": [6993359.0], \"sizemode\": \"area\", \"sizeref\": 2291441.95}, \"name\": \"country=Portugal\", \"showlegend\": true, \"type\": \"scattergeo\"}, {\"geo\": \"geo\", \"hoverlabel\": {\"namelength\": 0}, \"hovertemplate\": \"country=Qatar<br>total_vaccinations=%{marker.size}<br>iso_code=%{location}\", \"legendgroup\": \"country=Qatar\", \"locations\": [\"QAT\"], \"marker\": {\"color\": \"#FECB52\", \"size\": [50000.0], \"sizemode\": \"area\", \"sizeref\": 2291441.95}, \"name\": \"country=Qatar\", \"showlegend\": true, \"type\": \"scattergeo\"}, {\"geo\": \"geo\", \"hoverlabel\": {\"namelength\": 0}, \"hovertemplate\": \"country=Romania<br>total_vaccinations=%{marker.size}<br>iso_code=%{location}\", \"legendgroup\": \"country=Romania\", \"locations\": [\"ROU\"], \"marker\": {\"color\": \"#636efa\", \"size\": [17711283.0], \"sizemode\": \"area\", \"sizeref\": 2291441.95}, \"name\": \"country=Romania\", \"showlegend\": true, \"type\": \"scattergeo\"}, {\"geo\": \"geo\", \"hoverlabel\": {\"namelength\": 0}, \"hovertemplate\": \"country=Russia<br>total_vaccinations=%{marker.size}<br>iso_code=%{location}\", \"legendgroup\": \"country=Russia\", \"locations\": [\"RUS\"], \"marker\": {\"color\": \"#EF553B\", \"size\": [5780500.0], \"sizemode\": \"area\", \"sizeref\": 2291441.95}, \"name\": \"country=Russia\", \"showlegend\": true, \"type\": \"scattergeo\"}, {\"geo\": \"geo\", \"hoverlabel\": {\"namelength\": 0}, \"hovertemplate\": \"country=Saint Helena<br>total_vaccinations=%{marker.size}<br>iso_code=%{location}\", \"legendgroup\": \"country=Saint Helena\", \"locations\": [\"SHN\"], \"marker\": {\"color\": \"#00cc96\", \"size\": [107.0], \"sizemode\": \"area\", \"sizeref\": 2291441.95}, \"name\": \"country=Saint Helena\", \"showlegend\": true, \"type\": \"scattergeo\"}, {\"geo\": \"geo\", \"hoverlabel\": {\"namelength\": 0}, \"hovertemplate\": \"country=Saudi Arabia<br>total_vaccinations=%{marker.size}<br>iso_code=%{location}\", \"legendgroup\": \"country=Saudi Arabia\", \"locations\": [\"SAU\"], \"marker\": {\"color\": \"#ab63fa\", \"size\": [2431608.0], \"sizemode\": \"area\", \"sizeref\": 2291441.95}, \"name\": \"country=Saudi Arabia\", \"showlegend\": true, \"type\": \"scattergeo\"}, {\"geo\": \"geo\", \"hoverlabel\": {\"namelength\": 0}, \"hovertemplate\": \"country=Scotland<br>total_vaccinations=%{marker.size}<br>iso_code=%{location}\", \"legendgroup\": \"country=Scotland\", \"locations\": [\"GB-SCT\"], \"marker\": {\"color\": \"#FFA15A\", \"size\": [18273814.0], \"sizemode\": \"area\", \"sizeref\": 2291441.95}, \"name\": \"country=Scotland\", \"showlegend\": true, \"type\": \"scattergeo\"}, {\"geo\": \"geo\", \"hoverlabel\": {\"namelength\": 0}, \"hovertemplate\": \"country=Serbia<br>total_vaccinations=%{marker.size}<br>iso_code=%{location}\", \"legendgroup\": \"country=Serbia\", \"locations\": [\"SRB\"], \"marker\": {\"color\": \"#19d3f3\", \"size\": [7801974.0], \"sizemode\": \"area\", \"sizeref\": 2291441.95}, \"name\": \"country=Serbia\", \"showlegend\": true, \"type\": \"scattergeo\"}, {\"geo\": \"geo\", \"hoverlabel\": {\"namelength\": 0}, \"hovertemplate\": \"country=Seychelles<br>total_vaccinations=%{marker.size}<br>iso_code=%{location}\", \"legendgroup\": \"country=Seychelles\", \"locations\": [\"SYC\"], \"marker\": {\"color\": \"#FF6692\", \"size\": [533837.0], \"sizemode\": \"area\", \"sizeref\": 2291441.95}, \"name\": \"country=Seychelles\", \"showlegend\": true, \"type\": \"scattergeo\"}, {\"geo\": \"geo\", \"hoverlabel\": {\"namelength\": 0}, \"hovertemplate\": \"country=Singapore<br>total_vaccinations=%{marker.size}<br>iso_code=%{location}\", \"legendgroup\": \"country=Singapore\", \"locations\": [\"SGP\"], \"marker\": {\"color\": \"#B6E880\", \"size\": [774700.0], \"sizemode\": \"area\", \"sizeref\": 2291441.95}, \"name\": \"country=Singapore\", \"showlegend\": true, \"type\": \"scattergeo\"}, {\"geo\": \"geo\", \"hoverlabel\": {\"namelength\": 0}, \"hovertemplate\": \"country=Slovakia<br>total_vaccinations=%{marker.size}<br>iso_code=%{location}\", \"legendgroup\": \"country=Slovakia\", \"locations\": [\"SVK\"], \"marker\": {\"color\": \"#FF97FF\", \"size\": [4670395.0], \"sizemode\": \"area\", \"sizeref\": 2291441.95}, \"name\": \"country=Slovakia\", \"showlegend\": true, \"type\": \"scattergeo\"}, {\"geo\": \"geo\", \"hoverlabel\": {\"namelength\": 0}, \"hovertemplate\": \"country=Slovenia<br>total_vaccinations=%{marker.size}<br>iso_code=%{location}\", \"legendgroup\": \"country=Slovenia\", \"locations\": [\"SVN\"], \"marker\": {\"color\": \"#FECB52\", \"size\": [2580481.0], \"sizemode\": \"area\", \"sizeref\": 2291441.95}, \"name\": \"country=Slovenia\", \"showlegend\": true, \"type\": \"scattergeo\"}, {\"geo\": \"geo\", \"hoverlabel\": {\"namelength\": 0}, \"hovertemplate\": \"country=Spain<br>total_vaccinations=%{marker.size}<br>iso_code=%{location}\", \"legendgroup\": \"country=Spain\", \"locations\": [\"ESP\"], \"marker\": {\"color\": \"#636efa\", \"size\": [35692308.0], \"sizemode\": \"area\", \"sizeref\": 2291441.95}, \"name\": \"country=Spain\", \"showlegend\": true, \"type\": \"scattergeo\"}, {\"geo\": \"geo\", \"hoverlabel\": {\"namelength\": 0}, \"hovertemplate\": \"country=Sri Lanka<br>total_vaccinations=%{marker.size}<br>iso_code=%{location}\", \"legendgroup\": \"country=Sri Lanka\", \"locations\": [\"LKA\"], \"marker\": {\"color\": \"#EF553B\", \"size\": [1599734.0], \"sizemode\": \"area\", \"sizeref\": 2291441.95}, \"name\": \"country=Sri Lanka\", \"showlegend\": true, \"type\": \"scattergeo\"}, {\"geo\": \"geo\", \"hoverlabel\": {\"namelength\": 0}, \"hovertemplate\": \"country=Sweden<br>total_vaccinations=%{marker.size}<br>iso_code=%{location}\", \"legendgroup\": \"country=Sweden\", \"locations\": [\"SWE\"], \"marker\": {\"color\": \"#00cc96\", \"size\": [2741590.0], \"sizemode\": \"area\", \"sizeref\": 2291441.95}, \"name\": \"country=Sweden\", \"showlegend\": true, \"type\": \"scattergeo\"}, {\"geo\": \"geo\", \"hoverlabel\": {\"namelength\": 0}, \"hovertemplate\": \"country=Switzerland<br>total_vaccinations=%{marker.size}<br>iso_code=%{location}\", \"legendgroup\": \"country=Switzerland\", \"locations\": [\"CHE\"], \"marker\": {\"color\": \"#ab63fa\", \"size\": [2382787.0], \"sizemode\": \"area\", \"sizeref\": 2291441.95}, \"name\": \"country=Switzerland\", \"showlegend\": true, \"type\": \"scattergeo\"}, {\"geo\": \"geo\", \"hoverlabel\": {\"namelength\": 0}, \"hovertemplate\": \"country=Turkey<br>total_vaccinations=%{marker.size}<br>iso_code=%{location}\", \"legendgroup\": \"country=Turkey\", \"locations\": [\"TUR\"], \"marker\": {\"color\": \"#FFA15A\", \"size\": [56851669.0], \"sizemode\": \"area\", \"sizeref\": 2291441.95}, \"name\": \"country=Turkey\", \"showlegend\": true, \"type\": \"scattergeo\"}, {\"geo\": \"geo\", \"hoverlabel\": {\"namelength\": 0}, \"hovertemplate\": \"country=Turks and Caicos Islands<br>total_vaccinations=%{marker.size}<br>iso_code=%{location}\", \"legendgroup\": \"country=Turks and Caicos Islands\", \"locations\": [\"TCA\"], \"marker\": {\"color\": \"#19d3f3\", \"size\": [6433.0], \"sizemode\": \"area\", \"sizeref\": 2291441.95}, \"name\": \"country=Turks and Caicos Islands\", \"showlegend\": true, \"type\": \"scattergeo\"}, {\"geo\": \"geo\", \"hoverlabel\": {\"namelength\": 0}, \"hovertemplate\": \"country=United Arab Emirates<br>total_vaccinations=%{marker.size}<br>iso_code=%{location}\", \"legendgroup\": \"country=United Arab Emirates\", \"locations\": [\"ARE\"], \"marker\": {\"color\": \"#FF6692\", \"size\": [99203657.0], \"sizemode\": \"area\", \"sizeref\": 2291441.95}, \"name\": \"country=United Arab Emirates\", \"showlegend\": true, \"type\": \"scattergeo\"}, {\"geo\": \"geo\", \"hoverlabel\": {\"namelength\": 0}, \"hovertemplate\": \"country=United Kingdom<br>total_vaccinations=%{marker.size}<br>iso_code=%{location}\", \"legendgroup\": \"country=United Kingdom\", \"locations\": [\"GBR\"], \"marker\": {\"color\": \"#B6E880\", \"size\": [283127289.0], \"sizemode\": \"area\", \"sizeref\": 2291441.95}, \"name\": \"country=United Kingdom\", \"showlegend\": true, \"type\": \"scattergeo\"}, {\"geo\": \"geo\", \"hoverlabel\": {\"namelength\": 0}, \"hovertemplate\": \"country=United States<br>total_vaccinations=%{marker.size}<br>iso_code=%{location}\", \"legendgroup\": \"country=United States\", \"locations\": [\"USA\"], \"marker\": {\"color\": \"#FF97FF\", \"size\": [916576780.0], \"sizemode\": \"area\", \"sizeref\": 2291441.95}, \"name\": \"country=United States\", \"showlegend\": true, \"type\": \"scattergeo\"}, {\"geo\": \"geo\", \"hoverlabel\": {\"namelength\": 0}, \"hovertemplate\": \"country=Wales<br>total_vaccinations=%{marker.size}<br>iso_code=%{location}\", \"legendgroup\": \"country=Wales\", \"locations\": [\"GB-WLS\"], \"marker\": {\"color\": \"#FECB52\", \"size\": [11943666.0], \"sizemode\": \"area\", \"sizeref\": 2291441.95}, \"name\": \"country=Wales\", \"showlegend\": true, \"type\": \"scattergeo\"}],\n",
              "                        {\"geo\": {\"center\": {}, \"domain\": {\"x\": [0.0, 1.0], \"y\": [0.0, 1.0]}}, \"legend\": {\"itemsizing\": \"constant\", \"tracegroupgap\": 0}, \"template\": {\"data\": {\"bar\": [{\"error_x\": {\"color\": \"#2a3f5f\"}, \"error_y\": {\"color\": \"#2a3f5f\"}, \"marker\": {\"line\": {\"color\": \"#E5ECF6\", \"width\": 0.5}}, \"type\": \"bar\"}], \"barpolar\": [{\"marker\": {\"line\": {\"color\": \"#E5ECF6\", \"width\": 0.5}}, \"type\": \"barpolar\"}], \"carpet\": [{\"aaxis\": {\"endlinecolor\": \"#2a3f5f\", \"gridcolor\": \"white\", \"linecolor\": \"white\", \"minorgridcolor\": \"white\", \"startlinecolor\": \"#2a3f5f\"}, \"baxis\": {\"endlinecolor\": \"#2a3f5f\", \"gridcolor\": \"white\", \"linecolor\": \"white\", \"minorgridcolor\": \"white\", \"startlinecolor\": \"#2a3f5f\"}, \"type\": \"carpet\"}], \"choropleth\": [{\"colorbar\": {\"outlinewidth\": 0, \"ticks\": \"\"}, \"type\": \"choropleth\"}], \"contour\": [{\"colorbar\": {\"outlinewidth\": 0, \"ticks\": \"\"}, \"colorscale\": [[0.0, \"#0d0887\"], [0.1111111111111111, \"#46039f\"], [0.2222222222222222, \"#7201a8\"], [0.3333333333333333, \"#9c179e\"], [0.4444444444444444, \"#bd3786\"], [0.5555555555555556, \"#d8576b\"], [0.6666666666666666, \"#ed7953\"], [0.7777777777777778, \"#fb9f3a\"], [0.8888888888888888, \"#fdca26\"], [1.0, \"#f0f921\"]], \"type\": \"contour\"}], \"contourcarpet\": [{\"colorbar\": {\"outlinewidth\": 0, \"ticks\": \"\"}, \"type\": \"contourcarpet\"}], \"heatmap\": [{\"colorbar\": {\"outlinewidth\": 0, \"ticks\": \"\"}, \"colorscale\": [[0.0, \"#0d0887\"], [0.1111111111111111, \"#46039f\"], [0.2222222222222222, \"#7201a8\"], [0.3333333333333333, \"#9c179e\"], [0.4444444444444444, \"#bd3786\"], [0.5555555555555556, \"#d8576b\"], [0.6666666666666666, \"#ed7953\"], [0.7777777777777778, \"#fb9f3a\"], [0.8888888888888888, \"#fdca26\"], [1.0, \"#f0f921\"]], \"type\": \"heatmap\"}], \"heatmapgl\": [{\"colorbar\": {\"outlinewidth\": 0, \"ticks\": \"\"}, \"colorscale\": [[0.0, \"#0d0887\"], [0.1111111111111111, \"#46039f\"], [0.2222222222222222, \"#7201a8\"], [0.3333333333333333, \"#9c179e\"], [0.4444444444444444, \"#bd3786\"], [0.5555555555555556, \"#d8576b\"], [0.6666666666666666, \"#ed7953\"], [0.7777777777777778, \"#fb9f3a\"], [0.8888888888888888, \"#fdca26\"], [1.0, \"#f0f921\"]], \"type\": \"heatmapgl\"}], \"histogram\": [{\"marker\": {\"colorbar\": {\"outlinewidth\": 0, \"ticks\": \"\"}}, \"type\": \"histogram\"}], \"histogram2d\": [{\"colorbar\": {\"outlinewidth\": 0, \"ticks\": \"\"}, \"colorscale\": [[0.0, \"#0d0887\"], [0.1111111111111111, \"#46039f\"], [0.2222222222222222, \"#7201a8\"], [0.3333333333333333, \"#9c179e\"], [0.4444444444444444, \"#bd3786\"], [0.5555555555555556, \"#d8576b\"], [0.6666666666666666, \"#ed7953\"], [0.7777777777777778, \"#fb9f3a\"], [0.8888888888888888, \"#fdca26\"], [1.0, \"#f0f921\"]], \"type\": \"histogram2d\"}], \"histogram2dcontour\": [{\"colorbar\": {\"outlinewidth\": 0, \"ticks\": \"\"}, \"colorscale\": [[0.0, \"#0d0887\"], [0.1111111111111111, \"#46039f\"], [0.2222222222222222, \"#7201a8\"], [0.3333333333333333, \"#9c179e\"], [0.4444444444444444, \"#bd3786\"], [0.5555555555555556, \"#d8576b\"], [0.6666666666666666, \"#ed7953\"], [0.7777777777777778, \"#fb9f3a\"], [0.8888888888888888, \"#fdca26\"], [1.0, \"#f0f921\"]], \"type\": \"histogram2dcontour\"}], \"mesh3d\": [{\"colorbar\": {\"outlinewidth\": 0, \"ticks\": \"\"}, \"type\": \"mesh3d\"}], \"parcoords\": [{\"line\": {\"colorbar\": {\"outlinewidth\": 0, \"ticks\": \"\"}}, \"type\": \"parcoords\"}], \"pie\": [{\"automargin\": true, \"type\": \"pie\"}], \"scatter\": [{\"marker\": {\"colorbar\": {\"outlinewidth\": 0, \"ticks\": \"\"}}, \"type\": \"scatter\"}], \"scatter3d\": [{\"line\": {\"colorbar\": {\"outlinewidth\": 0, \"ticks\": \"\"}}, \"marker\": {\"colorbar\": {\"outlinewidth\": 0, \"ticks\": \"\"}}, \"type\": \"scatter3d\"}], \"scattercarpet\": [{\"marker\": {\"colorbar\": {\"outlinewidth\": 0, \"ticks\": \"\"}}, \"type\": \"scattercarpet\"}], \"scattergeo\": [{\"marker\": {\"colorbar\": {\"outlinewidth\": 0, \"ticks\": \"\"}}, \"type\": \"scattergeo\"}], \"scattergl\": [{\"marker\": {\"colorbar\": {\"outlinewidth\": 0, \"ticks\": \"\"}}, \"type\": \"scattergl\"}], \"scattermapbox\": [{\"marker\": {\"colorbar\": {\"outlinewidth\": 0, \"ticks\": \"\"}}, \"type\": \"scattermapbox\"}], \"scatterpolar\": [{\"marker\": {\"colorbar\": {\"outlinewidth\": 0, \"ticks\": \"\"}}, \"type\": \"scatterpolar\"}], \"scatterpolargl\": [{\"marker\": {\"colorbar\": {\"outlinewidth\": 0, \"ticks\": \"\"}}, \"type\": \"scatterpolargl\"}], \"scatterternary\": [{\"marker\": {\"colorbar\": {\"outlinewidth\": 0, \"ticks\": \"\"}}, \"type\": \"scatterternary\"}], \"surface\": [{\"colorbar\": {\"outlinewidth\": 0, \"ticks\": \"\"}, \"colorscale\": [[0.0, \"#0d0887\"], [0.1111111111111111, \"#46039f\"], [0.2222222222222222, \"#7201a8\"], [0.3333333333333333, \"#9c179e\"], [0.4444444444444444, \"#bd3786\"], [0.5555555555555556, \"#d8576b\"], [0.6666666666666666, \"#ed7953\"], [0.7777777777777778, \"#fb9f3a\"], [0.8888888888888888, \"#fdca26\"], [1.0, \"#f0f921\"]], \"type\": \"surface\"}], \"table\": [{\"cells\": {\"fill\": {\"color\": \"#EBF0F8\"}, \"line\": {\"color\": \"white\"}}, \"header\": {\"fill\": {\"color\": \"#C8D4E3\"}, \"line\": {\"color\": \"white\"}}, \"type\": \"table\"}]}, \"layout\": {\"annotationdefaults\": {\"arrowcolor\": \"#2a3f5f\", \"arrowhead\": 0, \"arrowwidth\": 1}, \"coloraxis\": {\"colorbar\": {\"outlinewidth\": 0, \"ticks\": \"\"}}, \"colorscale\": {\"diverging\": [[0, \"#8e0152\"], [0.1, \"#c51b7d\"], [0.2, \"#de77ae\"], [0.3, \"#f1b6da\"], [0.4, \"#fde0ef\"], [0.5, \"#f7f7f7\"], [0.6, \"#e6f5d0\"], [0.7, \"#b8e186\"], [0.8, \"#7fbc41\"], [0.9, \"#4d9221\"], [1, \"#276419\"]], \"sequential\": [[0.0, \"#0d0887\"], [0.1111111111111111, \"#46039f\"], [0.2222222222222222, \"#7201a8\"], [0.3333333333333333, \"#9c179e\"], [0.4444444444444444, \"#bd3786\"], [0.5555555555555556, \"#d8576b\"], [0.6666666666666666, \"#ed7953\"], [0.7777777777777778, \"#fb9f3a\"], [0.8888888888888888, \"#fdca26\"], [1.0, \"#f0f921\"]], \"sequentialminus\": [[0.0, \"#0d0887\"], [0.1111111111111111, \"#46039f\"], [0.2222222222222222, \"#7201a8\"], [0.3333333333333333, \"#9c179e\"], [0.4444444444444444, \"#bd3786\"], [0.5555555555555556, \"#d8576b\"], [0.6666666666666666, \"#ed7953\"], [0.7777777777777778, \"#fb9f3a\"], [0.8888888888888888, \"#fdca26\"], [1.0, \"#f0f921\"]]}, \"colorway\": [\"#636efa\", \"#EF553B\", \"#00cc96\", \"#ab63fa\", \"#FFA15A\", \"#19d3f3\", \"#FF6692\", \"#B6E880\", \"#FF97FF\", \"#FECB52\"], \"font\": {\"color\": \"#2a3f5f\"}, \"geo\": {\"bgcolor\": \"white\", \"lakecolor\": \"white\", \"landcolor\": \"#E5ECF6\", \"showlakes\": true, \"showland\": true, \"subunitcolor\": \"white\"}, \"hoverlabel\": {\"align\": \"left\"}, \"hovermode\": \"closest\", \"mapbox\": {\"style\": \"light\"}, \"paper_bgcolor\": \"white\", \"plot_bgcolor\": \"#E5ECF6\", \"polar\": {\"angularaxis\": {\"gridcolor\": \"white\", \"linecolor\": \"white\", \"ticks\": \"\"}, \"bgcolor\": \"#E5ECF6\", \"radialaxis\": {\"gridcolor\": \"white\", \"linecolor\": \"white\", \"ticks\": \"\"}}, \"scene\": {\"xaxis\": {\"backgroundcolor\": \"#E5ECF6\", \"gridcolor\": \"white\", \"gridwidth\": 2, \"linecolor\": \"white\", \"showbackground\": true, \"ticks\": \"\", \"zerolinecolor\": \"white\"}, \"yaxis\": {\"backgroundcolor\": \"#E5ECF6\", \"gridcolor\": \"white\", \"gridwidth\": 2, \"linecolor\": \"white\", \"showbackground\": true, \"ticks\": \"\", \"zerolinecolor\": \"white\"}, \"zaxis\": {\"backgroundcolor\": \"#E5ECF6\", \"gridcolor\": \"white\", \"gridwidth\": 2, \"linecolor\": \"white\", \"showbackground\": true, \"ticks\": \"\", \"zerolinecolor\": \"white\"}}, \"shapedefaults\": {\"line\": {\"color\": \"#2a3f5f\"}}, \"ternary\": {\"aaxis\": {\"gridcolor\": \"white\", \"linecolor\": \"white\", \"ticks\": \"\"}, \"baxis\": {\"gridcolor\": \"white\", \"linecolor\": \"white\", \"ticks\": \"\"}, \"bgcolor\": \"#E5ECF6\", \"caxis\": {\"gridcolor\": \"white\", \"linecolor\": \"white\", \"ticks\": \"\"}}, \"title\": {\"x\": 0.05}, \"xaxis\": {\"automargin\": true, \"gridcolor\": \"white\", \"linecolor\": \"white\", \"ticks\": \"\", \"title\": {\"standoff\": 15}, \"zerolinecolor\": \"white\", \"zerolinewidth\": 2}, \"yaxis\": {\"automargin\": true, \"gridcolor\": \"white\", \"linecolor\": \"white\", \"ticks\": \"\", \"title\": {\"standoff\": 15}, \"zerolinecolor\": \"white\", \"zerolinewidth\": 2}}}, \"title\": {\"text\": \"country by vaccinations\"}},\n",
              "                        {\"responsive\": true}\n",
              "                    ).then(function(){\n",
              "                            \n",
              "var gd = document.getElementById('a9b2c4dc-20d9-4f45-a76b-0a11ccdddfcf');\n",
              "var x = new MutationObserver(function (mutations, observer) {{\n",
              "        var display = window.getComputedStyle(gd).display;\n",
              "        if (!display || display === 'none') {{\n",
              "            console.log([gd, 'removed!']);\n",
              "            Plotly.purge(gd);\n",
              "            observer.disconnect();\n",
              "        }}\n",
              "}});\n",
              "\n",
              "// Listen for the removal of the full notebook cells\n",
              "var notebookContainer = gd.closest('#notebook-container');\n",
              "if (notebookContainer) {{\n",
              "    x.observe(notebookContainer, {childList: true});\n",
              "}}\n",
              "\n",
              "// Listen for the clearing of the current output cell\n",
              "var outputEl = gd.closest('.output');\n",
              "if (outputEl) {{\n",
              "    x.observe(outputEl, {childList: true});\n",
              "}}\n",
              "\n",
              "                        })\n",
              "                };\n",
              "                \n",
              "            </script>\n",
              "        </div>\n",
              "</body>\n",
              "</html>"
            ]
          },
          "metadata": {
            "tags": []
          }
        }
      ]
    },
    {
      "cell_type": "code",
      "metadata": {
        "id": "LTo-OGPrQNge"
      },
      "source": [
        "million = df.groupby('country').sum().sort_values('daily_vaccinations_per_million',ascending=False)"
      ],
      "execution_count": null,
      "outputs": []
    },
    {
      "cell_type": "code",
      "metadata": {
        "colab": {
          "base_uri": "https://localhost:8080/",
          "height": 521
        },
        "id": "8pzqgLRJT4MA",
        "outputId": "09269bd2-2d48-4d3b-b708-58f1c11f02af"
      },
      "source": [
        "million"
      ],
      "execution_count": null,
      "outputs": [
        {
          "output_type": "execute_result",
          "data": {
            "text/html": [
              "<div>\n",
              "<style scoped>\n",
              "    .dataframe tbody tr th:only-of-type {\n",
              "        vertical-align: middle;\n",
              "    }\n",
              "\n",
              "    .dataframe tbody tr th {\n",
              "        vertical-align: top;\n",
              "    }\n",
              "\n",
              "    .dataframe thead th {\n",
              "        text-align: right;\n",
              "    }\n",
              "</style>\n",
              "<table border=\"1\" class=\"dataframe\">\n",
              "  <thead>\n",
              "    <tr style=\"text-align: right;\">\n",
              "      <th></th>\n",
              "      <th>total_vaccinations</th>\n",
              "      <th>people_vaccinated</th>\n",
              "      <th>people_fully_vaccinated</th>\n",
              "      <th>daily_vaccinations_raw</th>\n",
              "      <th>daily_vaccinations</th>\n",
              "      <th>total_vaccinations_per_hundred</th>\n",
              "      <th>people_vaccinated_per_hundred</th>\n",
              "      <th>people_fully_vaccinated_per_hundred</th>\n",
              "      <th>daily_vaccinations_per_million</th>\n",
              "    </tr>\n",
              "    <tr>\n",
              "      <th>country</th>\n",
              "      <th></th>\n",
              "      <th></th>\n",
              "      <th></th>\n",
              "      <th></th>\n",
              "      <th></th>\n",
              "      <th></th>\n",
              "      <th></th>\n",
              "      <th></th>\n",
              "      <th></th>\n",
              "    </tr>\n",
              "  </thead>\n",
              "  <tbody>\n",
              "    <tr>\n",
              "      <th>Israel</th>\n",
              "      <td>164526770.0</td>\n",
              "      <td>1.181983e+08</td>\n",
              "      <td>46328441.0</td>\n",
              "      <td>6281852.0</td>\n",
              "      <td>6057930.0</td>\n",
              "      <td>1900.79</td>\n",
              "      <td>1.181983e+08</td>\n",
              "      <td>535.23</td>\n",
              "      <td>699891.0</td>\n",
              "    </tr>\n",
              "    <tr>\n",
              "      <th>Gibraltar</th>\n",
              "      <td>393041.0</td>\n",
              "      <td>3.296280e+05</td>\n",
              "      <td>62879.0</td>\n",
              "      <td>21141.0</td>\n",
              "      <td>21846.0</td>\n",
              "      <td>1166.59</td>\n",
              "      <td>3.296280e+05</td>\n",
              "      <td>186.63</td>\n",
              "      <td>648426.0</td>\n",
              "    </tr>\n",
              "    <tr>\n",
              "      <th>United Arab Emirates</th>\n",
              "      <td>99203657.0</td>\n",
              "      <td>9.154098e+07</td>\n",
              "      <td>250000.0</td>\n",
              "      <td>3641854.0</td>\n",
              "      <td>3656239.0</td>\n",
              "      <td>1003.04</td>\n",
              "      <td>9.154098e+07</td>\n",
              "      <td>2.53</td>\n",
              "      <td>369673.0</td>\n",
              "    </tr>\n",
              "    <tr>\n",
              "      <th>Seychelles</th>\n",
              "      <td>533837.0</td>\n",
              "      <td>4.973640e+05</td>\n",
              "      <td>36473.0</td>\n",
              "      <td>29760.0</td>\n",
              "      <td>29875.0</td>\n",
              "      <td>542.85</td>\n",
              "      <td>4.973640e+05</td>\n",
              "      <td>37.09</td>\n",
              "      <td>303795.0</td>\n",
              "    </tr>\n",
              "    <tr>\n",
              "      <th>Wales</th>\n",
              "      <td>11943666.0</td>\n",
              "      <td>1.190279e+07</td>\n",
              "      <td>40876.0</td>\n",
              "      <td>642117.0</td>\n",
              "      <td>587543.0</td>\n",
              "      <td>378.80</td>\n",
              "      <td>1.190279e+07</td>\n",
              "      <td>1.27</td>\n",
              "      <td>186352.0</td>\n",
              "    </tr>\n",
              "    <tr>\n",
              "      <th>...</th>\n",
              "      <td>...</td>\n",
              "      <td>...</td>\n",
              "      <td>...</td>\n",
              "      <td>...</td>\n",
              "      <td>...</td>\n",
              "      <td>...</td>\n",
              "      <td>...</td>\n",
              "      <td>...</td>\n",
              "      <td>...</td>\n",
              "    </tr>\n",
              "    <tr>\n",
              "      <th>Pakistan</th>\n",
              "      <td>27228.0</td>\n",
              "      <td>2.722800e+04</td>\n",
              "      <td>0.0</td>\n",
              "      <td>0.0</td>\n",
              "      <td>3404.0</td>\n",
              "      <td>0.01</td>\n",
              "      <td>2.722800e+04</td>\n",
              "      <td>0.00</td>\n",
              "      <td>15.0</td>\n",
              "    </tr>\n",
              "    <tr>\n",
              "      <th>Egypt</th>\n",
              "      <td>1315.0</td>\n",
              "      <td>-4.105001e+05</td>\n",
              "      <td>0.0</td>\n",
              "      <td>0.0</td>\n",
              "      <td>219.0</td>\n",
              "      <td>0.00</td>\n",
              "      <td>-4.105001e+05</td>\n",
              "      <td>0.00</td>\n",
              "      <td>2.0</td>\n",
              "    </tr>\n",
              "    <tr>\n",
              "      <th>Algeria</th>\n",
              "      <td>30.0</td>\n",
              "      <td>-4.117851e+05</td>\n",
              "      <td>0.0</td>\n",
              "      <td>30.0</td>\n",
              "      <td>30.0</td>\n",
              "      <td>0.00</td>\n",
              "      <td>-4.117851e+05</td>\n",
              "      <td>0.00</td>\n",
              "      <td>1.0</td>\n",
              "    </tr>\n",
              "    <tr>\n",
              "      <th>Saint Helena</th>\n",
              "      <td>107.0</td>\n",
              "      <td>-2.058006e+05</td>\n",
              "      <td>0.0</td>\n",
              "      <td>0.0</td>\n",
              "      <td>0.0</td>\n",
              "      <td>1.76</td>\n",
              "      <td>-2.058006e+05</td>\n",
              "      <td>0.00</td>\n",
              "      <td>0.0</td>\n",
              "    </tr>\n",
              "    <tr>\n",
              "      <th>Greenland</th>\n",
              "      <td>2584.0</td>\n",
              "      <td>2.584000e+03</td>\n",
              "      <td>0.0</td>\n",
              "      <td>0.0</td>\n",
              "      <td>0.0</td>\n",
              "      <td>4.55</td>\n",
              "      <td>2.584000e+03</td>\n",
              "      <td>0.00</td>\n",
              "      <td>0.0</td>\n",
              "    </tr>\n",
              "  </tbody>\n",
              "</table>\n",
              "<p>90 rows × 9 columns</p>\n",
              "</div>"
            ],
            "text/plain": [
              "                      total_vaccinations  ...  daily_vaccinations_per_million\n",
              "country                                   ...                                \n",
              "Israel                       164526770.0  ...                        699891.0\n",
              "Gibraltar                       393041.0  ...                        648426.0\n",
              "United Arab Emirates          99203657.0  ...                        369673.0\n",
              "Seychelles                      533837.0  ...                        303795.0\n",
              "Wales                         11943666.0  ...                        186352.0\n",
              "...                                  ...  ...                             ...\n",
              "Pakistan                         27228.0  ...                            15.0\n",
              "Egypt                             1315.0  ...                             2.0\n",
              "Algeria                             30.0  ...                             1.0\n",
              "Saint Helena                       107.0  ...                             0.0\n",
              "Greenland                         2584.0  ...                             0.0\n",
              "\n",
              "[90 rows x 9 columns]"
            ]
          },
          "metadata": {
            "tags": []
          },
          "execution_count": 52
        }
      ]
    },
    {
      "cell_type": "code",
      "metadata": {
        "colab": {
          "base_uri": "https://localhost:8080/",
          "height": 537
        },
        "id": "rwLDBCutT9tb",
        "outputId": "641621d6-f621-4bea-8a3c-2de2c6f80f4c"
      },
      "source": [
        "fig,ax=plt.subplots(figsize=(15,7))\n",
        "plt.bar(million.index,million.daily_vaccinations_per_million)\n",
        "plt.xticks(rotation=90)\n",
        "plt.title('number of vaccinations per million')"
      ],
      "execution_count": null,
      "outputs": [
        {
          "output_type": "execute_result",
          "data": {
            "text/plain": [
              "Text(0.5, 1.0, 'number of vaccinations per million')"
            ]
          },
          "metadata": {
            "tags": []
          },
          "execution_count": 53
        },
        {
          "output_type": "display_data",
          "data": {
            "image/png": "[encoded data removed]",
            "text/plain": [
              "<Figure size 1080x504 with 1 Axes>"
            ]
          },
          "metadata": {
            "tags": [],
            "needs_background": "light"
          }
        }
      ]
    },
    {
      "cell_type": "code",
      "metadata": {
        "colab": {
          "base_uri": "https://localhost:8080/",
          "height": 826
        },
        "id": "s8QtzBnNT_0W",
        "outputId": "2829582b-bc82-4d56-e09f-028f9cc2629b"
      },
      "source": [
        "data2 = df.groupby('vaccines').sum().sort_values('total_vaccinations',ascending=False)\n",
        "plt.figure(figsize=(15,7))\n",
        "plt.bar(data2.index,data2.total_vaccinations)\n",
        "plt.xticks(rotation=90)\n",
        "plt.show()"
      ],
      "execution_count": null,
      "outputs": [
        {
          "output_type": "display_data",
          "data": {
            "image/png": "[encoded data removed]",
            "text/plain": [
              "<Figure size 1080x504 with 1 Axes>"
            ]
          },
          "metadata": {
            "tags": [],
            "needs_background": "light"
          }
        }
      ]
    },
    {
      "cell_type": "code",
      "metadata": {
        "id": "v02_c-NDg42-"
      },
      "source": [
        "df['date']=pd.to_datetime(df['date'])\n",
        "df2=df.groupby('date').sum()"
      ],
      "execution_count": null,
      "outputs": []
    },
    {
      "cell_type": "code",
      "metadata": {
        "id": "slK3yvXzXVpK"
      },
      "source": [
        "df2['date_diff']=df2['total_vaccinations']\n",
        "count=0\n",
        "for index, row in df2.iterrows():\n",
        "  row['date_diff']=count\n",
        "  count+=1"
      ],
      "execution_count": null,
      "outputs": []
    },
    {
      "cell_type": "code",
      "metadata": {
        "colab": {
          "base_uri": "https://localhost:8080/",
          "height": 340
        },
        "id": "xiFSGC0zZTa4",
        "outputId": "fceb5b69-54b1-4926-b34b-e82ce5a9696f"
      },
      "source": [
        "df2.head()"
      ],
      "execution_count": null,
      "outputs": [
        {
          "output_type": "execute_result",
          "data": {
            "text/html": [
              "<div>\n",
              "<style scoped>\n",
              "    .dataframe tbody tr th:only-of-type {\n",
              "        vertical-align: middle;\n",
              "    }\n",
              "\n",
              "    .dataframe tbody tr th {\n",
              "        vertical-align: top;\n",
              "    }\n",
              "\n",
              "    .dataframe thead th {\n",
              "        text-align: right;\n",
              "    }\n",
              "</style>\n",
              "<table border=\"1\" class=\"dataframe\">\n",
              "  <thead>\n",
              "    <tr style=\"text-align: right;\">\n",
              "      <th></th>\n",
              "      <th>total_vaccinations</th>\n",
              "      <th>people_vaccinated</th>\n",
              "      <th>people_fully_vaccinated</th>\n",
              "      <th>daily_vaccinations_raw</th>\n",
              "      <th>daily_vaccinations</th>\n",
              "      <th>total_vaccinations_per_hundred</th>\n",
              "      <th>people_vaccinated_per_hundred</th>\n",
              "      <th>people_fully_vaccinated_per_hundred</th>\n",
              "      <th>daily_vaccinations_per_million</th>\n",
              "      <th>date_diff</th>\n",
              "    </tr>\n",
              "    <tr>\n",
              "      <th>date</th>\n",
              "      <th></th>\n",
              "      <th></th>\n",
              "      <th></th>\n",
              "      <th></th>\n",
              "      <th></th>\n",
              "      <th></th>\n",
              "      <th></th>\n",
              "      <th></th>\n",
              "      <th></th>\n",
              "      <th></th>\n",
              "    </tr>\n",
              "  </thead>\n",
              "  <tbody>\n",
              "    <tr>\n",
              "      <th>2020-12-13</th>\n",
              "      <td>172430.0</td>\n",
              "      <td>1.724300e+05</td>\n",
              "      <td>0.0</td>\n",
              "      <td>0.0</td>\n",
              "      <td>0.0</td>\n",
              "      <td>1.03</td>\n",
              "      <td>1.724300e+05</td>\n",
              "      <td>0.0</td>\n",
              "      <td>0.0</td>\n",
              "      <td>0.0</td>\n",
              "    </tr>\n",
              "    <tr>\n",
              "      <th>2020-12-15</th>\n",
              "      <td>1528500.0</td>\n",
              "      <td>1.322592e+06</td>\n",
              "      <td>0.0</td>\n",
              "      <td>0.0</td>\n",
              "      <td>0.0</td>\n",
              "      <td>0.12</td>\n",
              "      <td>1.322592e+06</td>\n",
              "      <td>0.0</td>\n",
              "      <td>0.0</td>\n",
              "      <td>1.0</td>\n",
              "    </tr>\n",
              "    <tr>\n",
              "      <th>2020-12-19</th>\n",
              "      <td>58.0</td>\n",
              "      <td>5.800000e+01</td>\n",
              "      <td>0.0</td>\n",
              "      <td>0.0</td>\n",
              "      <td>0.0</td>\n",
              "      <td>0.00</td>\n",
              "      <td>5.800000e+01</td>\n",
              "      <td>0.0</td>\n",
              "      <td>0.0</td>\n",
              "      <td>2.0</td>\n",
              "    </tr>\n",
              "    <tr>\n",
              "      <th>2020-12-20</th>\n",
              "      <td>1911206.0</td>\n",
              "      <td>1.911206e+06</td>\n",
              "      <td>0.0</td>\n",
              "      <td>7344.0</td>\n",
              "      <td>175225.0</td>\n",
              "      <td>4.97</td>\n",
              "      <td>1.911206e+06</td>\n",
              "      <td>0.0</td>\n",
              "      <td>6119.0</td>\n",
              "      <td>3.0</td>\n",
              "    </tr>\n",
              "    <tr>\n",
              "      <th>2020-12-21</th>\n",
              "      <td>646370.0</td>\n",
              "      <td>6.463700e+05</td>\n",
              "      <td>0.0</td>\n",
              "      <td>82760.0</td>\n",
              "      <td>74007.0</td>\n",
              "      <td>0.55</td>\n",
              "      <td>6.463700e+05</td>\n",
              "      <td>0.0</td>\n",
              "      <td>2033.0</td>\n",
              "      <td>4.0</td>\n",
              "    </tr>\n",
              "  </tbody>\n",
              "</table>\n",
              "</div>"
            ],
            "text/plain": [
              "            total_vaccinations  ...  date_diff\n",
              "date                            ...           \n",
              "2020-12-13            172430.0  ...        0.0\n",
              "2020-12-15           1528500.0  ...        1.0\n",
              "2020-12-19                58.0  ...        2.0\n",
              "2020-12-20           1911206.0  ...        3.0\n",
              "2020-12-21            646370.0  ...        4.0\n",
              "\n",
              "[5 rows x 10 columns]"
            ]
          },
          "metadata": {
            "tags": []
          },
          "execution_count": 91
        }
      ]
    },
    {
      "cell_type": "code",
      "metadata": {
        "id": "dOIpNonSZa7j"
      },
      "source": [
        "from sklearn.linear_model import LinearRegression"
      ],
      "execution_count": null,
      "outputs": []
    },
    {
      "cell_type": "code",
      "metadata": {
        "id": "vfrgdnDUe7uH"
      },
      "source": [
        "model = LinearRegression()"
      ],
      "execution_count": null,
      "outputs": []
    },
    {
      "cell_type": "code",
      "metadata": {
        "colab": {
          "base_uri": "https://localhost:8080/"
        },
        "id": "IjsrzfJ6e-Hl",
        "outputId": "848895fa-536b-48f6-aa87-0b00edac4799"
      },
      "source": [
        "x=df2[['date_diff']]\n",
        "y=df2['total_vaccinations']\n",
        "model.fit(x,y)"
      ],
      "execution_count": null,
      "outputs": [
        {
          "output_type": "execute_result",
          "data": {
            "text/plain": [
              "LinearRegression(copy_X=True, fit_intercept=True, n_jobs=None, normalize=False)"
            ]
          },
          "metadata": {
            "tags": []
          },
          "execution_count": 80
        }
      ]
    },
    {
      "cell_type": "code",
      "metadata": {
        "colab": {
          "base_uri": "https://localhost:8080/"
        },
        "id": "H8kwDQ-ZfGKh",
        "outputId": "7bdfefdd-0867-4dc3-bb00-aa5bdf92b9b8"
      },
      "source": [
        "print(model.coef_)\n",
        "print(model.intercept_)"
      ],
      "execution_count": null,
      "outputs": [
        {
          "output_type": "stream",
          "text": [
            "[2439700.69701929]\n",
            "-26645510.33220338\n"
          ],
          "name": "stdout"
        }
      ]
    },
    {
      "cell_type": "code",
      "metadata": {
        "id": "orXArmh8fNmv"
      },
      "source": [
        "prediction = model.predict(x)"
      ],
      "execution_count": null,
      "outputs": []
    },
    {
      "cell_type": "code",
      "metadata": {
        "colab": {
          "base_uri": "https://localhost:8080/"
        },
        "id": "eMdnFdU2faVK",
        "outputId": "cf031bb0-a064-4846-b5dd-24d0b3df6de9"
      },
      "source": [
        "print(int(model.predict([[365]])))"
      ],
      "execution_count": null,
      "outputs": [
        {
          "output_type": "stream",
          "text": [
            "863845244\n"
          ],
          "name": "stdout"
        }
      ]
    },
    {
      "cell_type": "code",
      "metadata": {
        "id": "qAXcXV5Xfo3e"
      },
      "source": [
        ""
      ],
      "execution_count": null,
      "outputs": []
    },
    {
      "cell_type": "code",
      "metadata": {
        "id": "iUgU5wXDhvxI"
      },
      "source": [
        ""
      ],
      "execution_count": null,
      "outputs": []
    },
    {
      "cell_type": "code",
      "metadata": {
        "id": "3xG5cMh2h6v6"
      },
      "source": [
        ""
      ],
      "execution_count": null,
      "outputs": []
    }
  ]
}